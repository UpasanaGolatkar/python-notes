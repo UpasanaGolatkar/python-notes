{
 "cells": [
  {
   "cell_type": "code",
   "execution_count": 20,
   "id": "58d27cdc",
   "metadata": {},
   "outputs": [
    {
     "name": "stdout",
     "output_type": "stream",
     "text": [
      "How\n",
      "Are\n",
      "You\n",
      "['How', 'Are', 'You']\n",
      "How Are You\n"
     ]
    }
   ],
   "source": [
    "sample = \"how are you\"\n",
    "\n",
    "sample.split()\n",
    "\n",
    "l = []\n",
    "for i in sample.split():\n",
    "    print (i.capitalize())\n",
    "    l.append(i.capitalize())\n",
    "    \n",
    "print (l)\n",
    "print (' '.join(l))\n",
    "    \n"
   ]
  },
  {
   "cell_type": "code",
   "execution_count": 26,
   "id": "7fdc1cd8",
   "metadata": {},
   "outputs": [
    {
     "data": {
      "text/plain": [
       "'abc'"
      ]
     },
     "execution_count": 26,
     "metadata": {},
     "output_type": "execute_result"
    }
   ],
   "source": [
    "email = \"abc@gmail.com\"\n",
    "\n",
    "email[:email.find('@')]"
   ]
  },
  {
   "cell_type": "code",
   "execution_count": 35,
   "id": "d091d1e6",
   "metadata": {},
   "outputs": [
    {
     "name": "stdout",
     "output_type": "stream",
     "text": [
      "[1, 2, 4, 3]\n"
     ]
    }
   ],
   "source": [
    "l =[1,2,1,4,3,2]\n",
    "\n",
    "s = []\n",
    "\n",
    "for i in l:\n",
    "    if i not in s:\n",
    "        s.append(i)\n",
    "        \n",
    "print(s)"
   ]
  },
  {
   "cell_type": "code",
   "execution_count": null,
   "id": "5336a1aa",
   "metadata": {},
   "outputs": [],
   "source": []
  }
 ],
 "metadata": {
  "kernelspec": {
   "display_name": "Python 3 (ipykernel)",
   "language": "python",
   "name": "python3"
  },
  "language_info": {
   "codemirror_mode": {
    "name": "ipython",
    "version": 3
   },
   "file_extension": ".py",
   "mimetype": "text/x-python",
   "name": "python",
   "nbconvert_exporter": "python",
   "pygments_lexer": "ipython3",
   "version": "3.11.5"
  }
 },
 "nbformat": 4,
 "nbformat_minor": 5
}
