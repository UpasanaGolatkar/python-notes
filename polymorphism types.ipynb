{
 "cells": [
  {
   "cell_type": "code",
   "execution_count": 1,
   "id": "b13b68c0",
   "metadata": {},
   "outputs": [],
   "source": [
    "# 1. method overriding\n",
    "\n",
    "\n",
    "#2. method overloading  = single method will be implemented in different given input\n",
    "\n",
    "\n",
    "#3. operator overloading = \n",
    "\n"
   ]
  },
  {
   "cell_type": "code",
   "execution_count": 8,
   "id": "f9f29975",
   "metadata": {},
   "outputs": [
    {
     "ename": "TypeError",
     "evalue": "geometry.area() missing 1 required positional argument: 'b'",
     "output_type": "error",
     "traceback": [
      "\u001b[1;31m---------------------------------------------------------------------------\u001b[0m",
      "\u001b[1;31mTypeError\u001b[0m                                 Traceback (most recent call last)",
      "Cell \u001b[1;32mIn[8], line 11\u001b[0m\n\u001b[0;32m      7\u001b[0m         \u001b[38;5;28;01mreturn\u001b[39;00m l \u001b[38;5;241m*\u001b[39mb\n\u001b[0;32m     10\u001b[0m obj \u001b[38;5;241m=\u001b[39m geometry()\n\u001b[1;32m---> 11\u001b[0m \u001b[38;5;28mprint\u001b[39m(obj\u001b[38;5;241m.\u001b[39marea(\u001b[38;5;241m5\u001b[39m))\n",
      "\u001b[1;31mTypeError\u001b[0m: geometry.area() missing 1 required positional argument: 'b'"
     ]
    }
   ],
   "source": [
    "class geometry:\n",
    "    \n",
    "    def area(slf,radius):                     ## same method name with differnt input \n",
    "        return 3.14* radius * radius\n",
    "    \n",
    "    def area (self,l,b):\n",
    "        return l *b\n",
    "    \n",
    "    \n",
    "obj = geometry()\n",
    "print(obj.area(5))"
   ]
  },
  {
   "cell_type": "code",
   "execution_count": 9,
   "id": "e7b83189",
   "metadata": {},
   "outputs": [],
   "source": [
    "## in python method overloading technically doesnt work, but can do through default positional\n",
    "# right below"
   ]
  },
  {
   "cell_type": "code",
   "execution_count": 10,
   "id": "599dc74d",
   "metadata": {},
   "outputs": [
    {
     "name": "stdout",
     "output_type": "stream",
     "text": [
      "circle 50.24\n"
     ]
    }
   ],
   "source": [
    "class geometry:\n",
    "    \n",
    "    def area(self,a,b=0):\n",
    "        if b == 0:\n",
    "            print(\"circle\",3.14*a*a)\n",
    "        else:\n",
    "            print(\"rect\",a*b)\n",
    "    \n",
    "obj = geometry()\n",
    "obj.area(4)"
   ]
  },
  {
   "cell_type": "code",
   "execution_count": 11,
   "id": "b8829b7f",
   "metadata": {},
   "outputs": [
    {
     "name": "stdout",
     "output_type": "stream",
     "text": [
      "rect 24\n"
     ]
    }
   ],
   "source": [
    "obj.area(4,6)"
   ]
  },
  {
   "cell_type": "code",
   "execution_count": null,
   "id": "cf017725",
   "metadata": {},
   "outputs": [],
   "source": [
    "## operator overloading (logical,arithemic...) \n",
    "# using operator for different use, like- str concatenate, fraction"
   ]
  }
 ],
 "metadata": {
  "kernelspec": {
   "display_name": "Python 3 (ipykernel)",
   "language": "python",
   "name": "python3"
  },
  "language_info": {
   "codemirror_mode": {
    "name": "ipython",
    "version": 3
   },
   "file_extension": ".py",
   "mimetype": "text/x-python",
   "name": "python",
   "nbconvert_exporter": "python",
   "pygments_lexer": "ipython3",
   "version": "3.11.5"
  }
 },
 "nbformat": 4,
 "nbformat_minor": 5
}
