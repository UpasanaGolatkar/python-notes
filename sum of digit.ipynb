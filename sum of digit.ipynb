{
 "cells": [
  {
   "cell_type": "code",
   "execution_count": 5,
   "id": "0258a107",
   "metadata": {},
   "outputs": [
    {
     "name": "stdout",
     "output_type": "stream",
     "text": [
      "enter yor number123\n",
      "6\n"
     ]
    }
   ],
   "source": [
    "n = int(input(\"enter yor number\"))\n",
    "\n",
    "value = str(n)\n",
    "\n",
    "sum = 0\n",
    "\n",
    "for i in value:\n",
    "    sum = sum + int(i)\n",
    "    \n",
    "print(sum)"
   ]
  },
  {
   "cell_type": "code",
   "execution_count": 3,
   "id": "000de522",
   "metadata": {},
   "outputs": [
    {
     "name": "stdout",
     "output_type": "stream",
     "text": [
      "enter your number234\n",
      "9\n"
     ]
    }
   ],
   "source": [
    "n = input(\"enter your number\")\n",
    "\n",
    "\n",
    "\n",
    "sum = 0\n",
    "\n",
    "for i in n:\n",
    "    sum = sum + int(i)\n",
    "    \n",
    "print(sum)"
   ]
  },
  {
   "cell_type": "code",
   "execution_count": 8,
   "id": "4e713bcd",
   "metadata": {},
   "outputs": [
    {
     "name": "stdout",
     "output_type": "stream",
     "text": [
      "Enter the three digit number234\n",
      "9\n"
     ]
    }
   ],
   "source": [
    "num = int(input(\"Enter the three digit number\"))\n",
    "\n",
    "a= num % 10\n",
    "num = num//10\n",
    "\n",
    "b = num % 10\n",
    "num = num // 10\n",
    "\n",
    "c = num % 10\n",
    "num = num // 10\n",
    "\n",
    "print(a + b + c)"
   ]
  },
  {
   "cell_type": "code",
   "execution_count": null,
   "id": "aa33d719",
   "metadata": {},
   "outputs": [],
   "source": []
  }
 ],
 "metadata": {
  "kernelspec": {
   "display_name": "Python 3 (ipykernel)",
   "language": "python",
   "name": "python3"
  },
  "language_info": {
   "codemirror_mode": {
    "name": "ipython",
    "version": 3
   },
   "file_extension": ".py",
   "mimetype": "text/x-python",
   "name": "python",
   "nbconvert_exporter": "python",
   "pygments_lexer": "ipython3",
   "version": "3.11.5"
  }
 },
 "nbformat": 4,
 "nbformat_minor": 5
}
