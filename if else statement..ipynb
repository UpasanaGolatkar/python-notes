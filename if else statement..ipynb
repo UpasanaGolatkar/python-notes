{
 "cells": [
  {
   "cell_type": "code",
   "execution_count": 2,
   "id": "7b327d37",
   "metadata": {},
   "outputs": [
    {
     "name": "stdout",
     "output_type": "stream",
     "text": [
      "enter your email@dd\n",
      "enter your password12\n",
      "incorrect credentials\n"
     ]
    }
   ],
   "source": [
    "email = input ('enter your email')\n",
    "if '@' in email:\n",
    "    password = input ('enter your password')\n",
    "\n",
    "    if email == 'campus@gmail.com' and password == '1234':\n",
    "        print ('welcome')\n",
    "    elif email == 'campus@gmail.com' and password != '1234':\n",
    "        print ('incorrect password')\n",
    "        password = input ('enter correct password')\n",
    "        if password == '1234':\n",
    "            print ('correct password')\n",
    "        else:\n",
    "            print ('wrong password')\n",
    "    else:\n",
    "        print ('incorrect credentials')\n",
    "else: \n",
    "    print('incorrect email')"
   ]
  },
  {
   "cell_type": "code",
   "execution_count": null,
   "id": "90f3b4b1",
   "metadata": {},
   "outputs": [],
   "source": []
  },
  {
   "cell_type": "code",
   "execution_count": null,
   "id": "29195e4b",
   "metadata": {},
   "outputs": [],
   "source": []
  },
  {
   "cell_type": "code",
   "execution_count": null,
   "id": "39af2516",
   "metadata": {},
   "outputs": [],
   "source": []
  }
 ],
 "metadata": {
  "kernelspec": {
   "display_name": "Python 3 (ipykernel)",
   "language": "python",
   "name": "python3"
  },
  "language_info": {
   "codemirror_mode": {
    "name": "ipython",
    "version": 3
   },
   "file_extension": ".py",
   "mimetype": "text/x-python",
   "name": "python",
   "nbconvert_exporter": "python",
   "pygments_lexer": "ipython3",
   "version": "3.11.5"
  }
 },
 "nbformat": 4,
 "nbformat_minor": 5
}
