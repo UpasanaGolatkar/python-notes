{
 "cells": [
  {
   "cell_type": "code",
   "execution_count": 2,
   "id": "821b9b59",
   "metadata": {},
   "outputs": [
    {
     "ename": "IndentationError",
     "evalue": "expected an indented block after 'if' statement on line 9 (4290841113.py, line 10)",
     "output_type": "error",
     "traceback": [
      "\u001b[1;36m  Cell \u001b[1;32mIn[2], line 10\u001b[1;36m\u001b[0m\n\u001b[1;33m    print ('correct password inserted')\u001b[0m\n\u001b[1;37m    ^\u001b[0m\n\u001b[1;31mIndentationError\u001b[0m\u001b[1;31m:\u001b[0m expected an indented block after 'if' statement on line 9\n"
     ]
    }
   ],
   "source": [
    "email = input ('enter your email')\n",
    "password = input ('enter your password')\n",
    "\n",
    "if email == 'campusx@gmail.com' and password == '1234':\n",
    "    print ('welcome')\n",
    "elif email == 'campusx@gmail.com' and password != '1234':\n",
    "        print ('incorrect password')\n",
    "        password = input( 'please enter your correct password')\n",
    "        if password == '1234':\n",
    "        print ('correct password inserted')\n",
    "        else: \n",
    "            print ('again incorrect password')\n",
    "else:\n",
    "    print ('incorrect credential')"
   ]
  },
  {
   "cell_type": "code",
   "execution_count": null,
   "id": "f57ec930",
   "metadata": {},
   "outputs": [],
   "source": []
  }
 ],
 "metadata": {
  "kernelspec": {
   "display_name": "Python 3 (ipykernel)",
   "language": "python",
   "name": "python3"
  },
  "language_info": {
   "codemirror_mode": {
    "name": "ipython",
    "version": 3
   },
   "file_extension": ".py",
   "mimetype": "text/x-python",
   "name": "python",
   "nbconvert_exporter": "python",
   "pygments_lexer": "ipython3",
   "version": "3.11.5"
  }
 },
 "nbformat": 4,
 "nbformat_minor": 5
}
