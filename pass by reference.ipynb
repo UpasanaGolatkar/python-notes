{
 "cells": [
  {
   "cell_type": "code",
   "execution_count": 5,
   "id": "62f4c208",
   "metadata": {},
   "outputs": [
    {
     "name": "stdout",
     "output_type": "stream",
     "text": [
      "hello upasana\n"
     ]
    }
   ],
   "source": [
    "class Customer:\n",
    "    \n",
    "    def __init__(self,name):\n",
    "        self.name = name\n",
    "\n",
    "def greet(customer):\n",
    "    print(\"hello\",customer.name)\n",
    "    \n",
    "    \n",
    "cust = Customer(\"upasana\")\n",
    "\n",
    "greet(cust)\n",
    "\n"
   ]
  },
  {
   "cell_type": "code",
   "execution_count": 16,
   "id": "49bdb456",
   "metadata": {
    "scrolled": true
   },
   "outputs": [
    {
     "name": "stdout",
     "output_type": "stream",
     "text": [
      "2285243849472\n",
      "[1, 2, 3, 4]\n",
      "2285230579712\n",
      "2285230579712\n",
      "[1, 2, 3, 4]\n"
     ]
    }
   ],
   "source": [
    "## function call kela list madhe tar do clone list are mutable , permanent changes will happen if not cloned\n",
    "## not for tuple as tuple is immutable\n",
    "\n",
    "\n",
    "\n",
    "def change(L):\n",
    "    print(id(L))\n",
    "    L.append(5)\n",
    "    print(id(L))\n",
    "    \n",
    "L = [1,2,3,4]\n",
    "print(id(L))\n",
    "print(L)\n",
    "\n",
    "change(L[:])    ### used [:] to clone, otherwise main list will be changed\n",
    "print(L)"
   ]
  },
  {
   "cell_type": "code",
   "execution_count": 18,
   "id": "e1a543f2",
   "metadata": {},
   "outputs": [
    {
     "name": "stdout",
     "output_type": "stream",
     "text": [
      "2285230563200\n",
      "(1, 2, 3, 4)\n",
      "2285230563200\n",
      "2285229667520\n",
      "(1, 2, 3, 4)\n"
     ]
    }
   ],
   "source": [
    "## same function with tuple\n",
    "\n",
    "def change(L):\n",
    "    print(id(L))\n",
    "    L = L + (5,6)\n",
    "    print(id(L))\n",
    "    \n",
    "L1 = (1,2,3,4)\n",
    "print(id(L1))\n",
    "print(L1)\n",
    "\n",
    "change(L1)   ### dint used clonning \n",
    "print(L1)"
   ]
  },
  {
   "cell_type": "code",
   "execution_count": null,
   "id": "3b78dcd3",
   "metadata": {},
   "outputs": [],
   "source": [
    "### pass by reference \n",
    "\n",
    "# if you send mutable objects, original will change permanently\n",
    "\n",
    "# if you send immutable objects, original will not change"
   ]
  },
  {
   "cell_type": "code",
   "execution_count": null,
   "id": "360a9845",
   "metadata": {},
   "outputs": [],
   "source": []
  }
 ],
 "metadata": {
  "kernelspec": {
   "display_name": "Python 3 (ipykernel)",
   "language": "python",
   "name": "python3"
  },
  "language_info": {
   "codemirror_mode": {
    "name": "ipython",
    "version": 3
   },
   "file_extension": ".py",
   "mimetype": "text/x-python",
   "name": "python",
   "nbconvert_exporter": "python",
   "pygments_lexer": "ipython3",
   "version": "3.11.5"
  }
 },
 "nbformat": 4,
 "nbformat_minor": 5
}
