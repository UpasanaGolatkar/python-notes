{
 "cells": [
  {
   "cell_type": "code",
   "execution_count": 7,
   "id": "78fa9365",
   "metadata": {},
   "outputs": [
    {
     "name": "stdout",
     "output_type": "stream",
     "text": [
      "enter your number1234\n",
      "your reverse number is : 4321\n"
     ]
    }
   ],
   "source": [
    "num = int(input(\"enter your number\"))\n",
    "\n",
    "\n",
    "a=  str(num)[::-1]\n",
    "\n",
    "print(\"your reverse number is :\", a)"
   ]
  },
  {
   "cell_type": "code",
   "execution_count": 10,
   "id": "94556d4b",
   "metadata": {},
   "outputs": [
    {
     "name": "stdout",
     "output_type": "stream",
     "text": [
      "enter your number12345\n",
      "your reverse number is : 54321\n"
     ]
    }
   ],
   "source": [
    "num = int(input(\"enter your number\"))\n",
    "\n",
    "\n",
    "a=  str(num)[::-1]\n",
    "\n",
    "print(\"your reverse number is :\", a)"
   ]
  },
  {
   "cell_type": "code",
   "execution_count": 24,
   "id": "c781b127",
   "metadata": {},
   "outputs": [
    {
     "name": "stdout",
     "output_type": "stream",
     "text": [
      "enter your digit121\n"
     ]
    },
    {
     "ename": "TypeError",
     "evalue": "'list' object is not callable",
     "output_type": "error",
     "traceback": [
      "\u001b[1;31m---------------------------------------------------------------------------\u001b[0m",
      "\u001b[1;31mTypeError\u001b[0m                                 Traceback (most recent call last)",
      "Cell \u001b[1;32mIn[24], line 8\u001b[0m\n\u001b[0;32m      5\u001b[0m \u001b[38;5;28;01mfor\u001b[39;00m digit \u001b[38;5;129;01min\u001b[39;00m \u001b[38;5;28mstr\u001b[39m(num):\n\u001b[0;32m      6\u001b[0m     \u001b[38;5;28msum\u001b[39m\u001b[38;5;241m=\u001b[39m\u001b[38;5;28msum\u001b[39m\u001b[38;5;241m+\u001b[39m\u001b[38;5;28mint\u001b[39m(num)\n\u001b[1;32m----> 8\u001b[0m \u001b[38;5;28mprint\u001b[39m(\u001b[38;5;124m\"\u001b[39m\u001b[38;5;124mSum of digits\u001b[39m\u001b[38;5;124m\"\u001b[39m,\u001b[38;5;28msum\u001b[39m)\n",
      "\u001b[1;31mTypeError\u001b[0m: 'list' object is not callable"
     ]
    }
   ],
   "source": [
    "num = int(input(\"enter your digit\"))\n",
    "\n",
    "sum = 0\n",
    "\n",
    "for digit in str(num):\n",
    "    sum=sum+int(num)\n",
    "\n",
    "print(\"Sum of digits\",sum)\n"
   ]
  },
  {
   "cell_type": "code",
   "execution_count": null,
   "id": "781d1377",
   "metadata": {},
   "outputs": [],
   "source": []
  }
 ],
 "metadata": {
  "kernelspec": {
   "display_name": "Python 3 (ipykernel)",
   "language": "python",
   "name": "python3"
  },
  "language_info": {
   "codemirror_mode": {
    "name": "ipython",
    "version": 3
   },
   "file_extension": ".py",
   "mimetype": "text/x-python",
   "name": "python",
   "nbconvert_exporter": "python",
   "pygments_lexer": "ipython3",
   "version": "3.11.5"
  }
 },
 "nbformat": 4,
 "nbformat_minor": 5
}
