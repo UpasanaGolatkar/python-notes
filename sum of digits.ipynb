{
 "cells": [
  {
   "cell_type": "code",
   "execution_count": 2,
   "id": "45d1ef33",
   "metadata": {},
   "outputs": [
    {
     "name": "stdout",
     "output_type": "stream",
     "text": [
      "enter your first number205\n",
      "enter your second number3695\n",
      "enter your third number1456\n",
      "The sum of digits are 5356\n"
     ]
    }
   ],
   "source": [
    "a= int(input(\"enter your first number\"))\n",
    "\n",
    "b = int(input(\"enter your second number\"))\n",
    "\n",
    "c = int(input(\"enter your third number\"))\n",
    "\n",
    "\n",
    "d = a+b+c\n",
    "\n",
    "print(\"The sum of digits are\",d)"
   ]
  },
  {
   "cell_type": "code",
   "execution_count": null,
   "id": "0501e17a",
   "metadata": {},
   "outputs": [],
   "source": []
  }
 ],
 "metadata": {
  "kernelspec": {
   "display_name": "Python 3 (ipykernel)",
   "language": "python",
   "name": "python3"
  },
  "language_info": {
   "codemirror_mode": {
    "name": "ipython",
    "version": 3
   },
   "file_extension": ".py",
   "mimetype": "text/x-python",
   "name": "python",
   "nbconvert_exporter": "python",
   "pygments_lexer": "ipython3",
   "version": "3.11.5"
  }
 },
 "nbformat": 4,
 "nbformat_minor": 5
}
