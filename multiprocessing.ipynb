{
 "cells": [
  {
   "cell_type": "code",
   "execution_count": 6,
   "id": "1d68ea88",
   "metadata": {},
   "outputs": [],
   "source": [
    "import multiprocessing\n",
    "import requests"
   ]
  },
  {
   "cell_type": "code",
   "execution_count": 15,
   "id": "f0e4700b",
   "metadata": {},
   "outputs": [],
   "source": [
    "def downloadfile(url):\n",
    "    \n",
    "    response = requests.get(url)\n",
    "\n",
    "\n",
    "url = \"https://picsum.photos/200/300\"\n",
    "\n",
    "    \n",
    "downloadfile(url)"
   ]
  },
  {
   "cell_type": "code",
   "execution_count": null,
   "id": "66d9864a",
   "metadata": {},
   "outputs": [],
   "source": []
  },
  {
   "cell_type": "code",
   "execution_count": null,
   "id": "b30642dc",
   "metadata": {},
   "outputs": [],
   "source": []
  }
 ],
 "metadata": {
  "kernelspec": {
   "display_name": "Python 3 (ipykernel)",
   "language": "python",
   "name": "python3"
  },
  "language_info": {
   "codemirror_mode": {
    "name": "ipython",
    "version": 3
   },
   "file_extension": ".py",
   "mimetype": "text/x-python",
   "name": "python",
   "nbconvert_exporter": "python",
   "pygments_lexer": "ipython3",
   "version": "3.11.5"
  }
 },
 "nbformat": 4,
 "nbformat_minor": 5
}
