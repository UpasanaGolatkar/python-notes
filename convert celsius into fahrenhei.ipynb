{
 "cells": [
  {
   "cell_type": "code",
   "execution_count": 4,
   "id": "5a0d58e8",
   "metadata": {},
   "outputs": [
    {
     "name": "stdout",
     "output_type": "stream",
     "text": [
      "enter temp into celsius-20\n",
      "it is 13.8 degree farhenheit\n"
     ]
    }
   ],
   "source": [
    "temp = float(input(\"enter temp into celsius\"))\n",
    "\n",
    "f= (temp +1.8)+ 32\n",
    "\n",
    "print(\"it is\", f, \"degree farhenheit\")"
   ]
  },
  {
   "cell_type": "code",
   "execution_count": null,
   "id": "b2f3dcde",
   "metadata": {},
   "outputs": [],
   "source": []
  },
  {
   "cell_type": "code",
   "execution_count": null,
   "id": "0026c101",
   "metadata": {},
   "outputs": [],
   "source": []
  }
 ],
 "metadata": {
  "kernelspec": {
   "display_name": "Python 3 (ipykernel)",
   "language": "python",
   "name": "python3"
  },
  "language_info": {
   "codemirror_mode": {
    "name": "ipython",
    "version": 3
   },
   "file_extension": ".py",
   "mimetype": "text/x-python",
   "name": "python",
   "nbconvert_exporter": "python",
   "pygments_lexer": "ipython3",
   "version": "3.11.5"
  }
 },
 "nbformat": 4,
 "nbformat_minor": 5
}
