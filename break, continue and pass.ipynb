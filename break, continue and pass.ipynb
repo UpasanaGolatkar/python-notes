{
 "cells": [
  {
   "cell_type": "code",
   "execution_count": 4,
   "id": "95385346",
   "metadata": {},
   "outputs": [
    {
     "name": "stdout",
     "output_type": "stream",
     "text": [
      "1\n",
      "2\n",
      "3\n",
      "4\n"
     ]
    }
   ],
   "source": [
    "#break\n",
    "\n",
    "for i in range(1,20):\n",
    "    if i == 5:\n",
    "        break\n",
    "    print(i)\n"
   ]
  },
  {
   "cell_type": "code",
   "execution_count": 28,
   "id": "bcf60187",
   "metadata": {},
   "outputs": [
    {
     "name": "stdout",
     "output_type": "stream",
     "text": [
      "1\n",
      "hello\n",
      "upa\n",
      "2\n",
      "hello\n",
      "upa\n",
      "3\n",
      "hello\n",
      "upa\n",
      "5\n",
      "hello\n",
      "upa\n",
      "6\n",
      "hello\n",
      "upa\n",
      "7\n",
      "hello\n",
      "upa\n",
      "8\n",
      "hello\n",
      "upa\n",
      "9\n",
      "hello\n",
      "upa\n"
     ]
    }
   ],
   "source": [
    "# continue\n",
    "\n",
    "for i in range(1,10):\n",
    "    if i == 4:\n",
    "        continue\n",
    "    print(i)\n",
    "    print('hello')\n",
    "    print('upa')"
   ]
  },
  {
   "cell_type": "code",
   "execution_count": 30,
   "id": "797c1bbd",
   "metadata": {},
   "outputs": [],
   "source": [
    "#pass statement can go with functions, class\n",
    "\n",
    "#when we dont know logic above certain code we pass and go ahead with code without error \n",
    "\n",
    "for i in range(1,10):\n",
    "    pass"
   ]
  },
  {
   "cell_type": "code",
   "execution_count": null,
   "id": "986f038d",
   "metadata": {},
   "outputs": [],
   "source": []
  }
 ],
 "metadata": {
  "kernelspec": {
   "display_name": "Python 3 (ipykernel)",
   "language": "python",
   "name": "python3"
  },
  "language_info": {
   "codemirror_mode": {
    "name": "ipython",
    "version": 3
   },
   "file_extension": ".py",
   "mimetype": "text/x-python",
   "name": "python",
   "nbconvert_exporter": "python",
   "pygments_lexer": "ipython3",
   "version": "3.11.5"
  }
 },
 "nbformat": 4,
 "nbformat_minor": 5
}
