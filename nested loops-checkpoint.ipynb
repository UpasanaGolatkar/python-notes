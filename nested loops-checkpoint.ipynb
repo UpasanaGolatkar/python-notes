{
 "cells": [
  {
   "cell_type": "code",
   "execution_count": 1,
   "id": "9587df25",
   "metadata": {},
   "outputs": [],
   "source": [
    "#nested loops"
   ]
  },
  {
   "cell_type": "code",
   "execution_count": null,
   "id": "72059675",
   "metadata": {},
   "outputs": [],
   "source": [
    "rows= int(input('enter the number of rows'))\n",
    "\n",
    "for i in range(1,rows+1):\n",
    "    for x in range(0,i):\n",
    "        print('*',end=' ')\n",
    "    print(' ')"
   ]
  },
  {
   "cell_type": "code",
   "execution_count": null,
   "id": "87df3987",
   "metadata": {},
   "outputs": [],
   "source": [
    "message = input( 'type a message')\n",
    "times = int(input('how many times'))\n",
    "\n",
    "for i in range(1,times+1):\n",
    "    print(message)"
   ]
  },
  {
   "cell_type": "code",
   "execution_count": null,
   "id": "2ff37af2",
   "metadata": {},
   "outputs": [],
   "source": []
  }
 ],
 "metadata": {
  "kernelspec": {
   "display_name": "Python 3 (ipykernel)",
   "language": "python",
   "name": "python3"
  },
  "language_info": {
   "codemirror_mode": {
    "name": "ipython",
    "version": 3
   },
   "file_extension": ".py",
   "mimetype": "text/x-python",
   "name": "python",
   "nbconvert_exporter": "python",
   "pygments_lexer": "ipython3",
   "version": "3.11.5"
  }
 },
 "nbformat": 4,
 "nbformat_minor": 5
}
