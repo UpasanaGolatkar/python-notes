{
 "cells": [
  {
   "cell_type": "code",
   "execution_count": 2,
   "id": "ba617bc9",
   "metadata": {},
   "outputs": [],
   "source": [
    "# types\n",
    "\n",
    "## single level - single child and parent class\n",
    "\n",
    "\n",
    "## multi level - grand - parent - child ( can be multiple)\n",
    "#child = parent= grand\n",
    "#parent = grand\n",
    "\n",
    "## hierarchical\n",
    "#- single parent, multiple child\n",
    "\n",
    "## mutiple \n",
    "#- multiple parent, single child\n",
    "\n",
    "## hybrid \n",
    "#- combination of above types"
   ]
  },
  {
   "cell_type": "code",
   "execution_count": 3,
   "id": "3ab065a2",
   "metadata": {},
   "outputs": [],
   "source": [
    "# single level done before"
   ]
  },
  {
   "cell_type": "code",
   "execution_count": 4,
   "id": "37f85394",
   "metadata": {},
   "outputs": [
    {
     "name": "stdout",
     "output_type": "stream",
     "text": [
      "inside phone\n",
      "inside phone\n"
     ]
    }
   ],
   "source": [
    "# multilevel\n",
    "\n",
    "class product:\n",
    "    \n",
    "    def review(self):\n",
    "        print(\"product review\")\n",
    "    \n",
    "    \n",
    "class phone(product):\n",
    "    \n",
    "    def __init__(self,price,brand):\n",
    "        print(\"inside phone\")\n",
    "        self.price= price\n",
    "        self.brand = brand\n",
    "        \n",
    "    def buy(self):\n",
    "        print(\"buying a phone\")\n",
    "        \n",
    "class smartphone(phone):\n",
    "    pass\n",
    "\n",
    "\n",
    "\n",
    "\n",
    "s= smartphone(20000,\"apple\")\n",
    "p = phone(1000,\"lg\")\n",
    "\n"
   ]
  },
  {
   "cell_type": "code",
   "execution_count": 5,
   "id": "a9fe94ee",
   "metadata": {},
   "outputs": [
    {
     "name": "stdout",
     "output_type": "stream",
     "text": [
      "buying a phone\n"
     ]
    }
   ],
   "source": [
    "s.buy()  ## child can access parent method"
   ]
  },
  {
   "cell_type": "code",
   "execution_count": 6,
   "id": "18bb00a4",
   "metadata": {},
   "outputs": [
    {
     "name": "stdout",
     "output_type": "stream",
     "text": [
      "product review\n"
     ]
    }
   ],
   "source": [
    "s.review()     ## child can access grand method"
   ]
  },
  {
   "cell_type": "code",
   "execution_count": 7,
   "id": "a35f6a9c",
   "metadata": {},
   "outputs": [
    {
     "name": "stdout",
     "output_type": "stream",
     "text": [
      "product review\n"
     ]
    }
   ],
   "source": [
    "p.review()      ## parent can access grand method"
   ]
  },
  {
   "cell_type": "code",
   "execution_count": 8,
   "id": "84faf2c6",
   "metadata": {},
   "outputs": [
    {
     "name": "stdout",
     "output_type": "stream",
     "text": [
      "inside phone\n"
     ]
    }
   ],
   "source": [
    "## hierarchical single parent, multiple child\n",
    "\n",
    "class phone:\n",
    "    \n",
    "    def __init__(self,price,brand):\n",
    "        print(\"inside phone\")\n",
    "        self.price= price\n",
    "        self.brand = brand\n",
    "        \n",
    "    def buy(self):\n",
    "        print(\"buying a phone\")\n",
    "        \n",
    "class smartphone(phone):\n",
    "    pass\n",
    "\n",
    "class featurephone(phone):\n",
    "    pass\n",
    "\n",
    "\n",
    "s= smartphone(1000,\"Apple\")"
   ]
  },
  {
   "cell_type": "code",
   "execution_count": 9,
   "id": "2faaf568",
   "metadata": {},
   "outputs": [
    {
     "name": "stdout",
     "output_type": "stream",
     "text": [
      "buying a phone\n"
     ]
    }
   ],
   "source": [
    "s.buy()"
   ]
  },
  {
   "cell_type": "code",
   "execution_count": 10,
   "id": "26094c65",
   "metadata": {},
   "outputs": [
    {
     "name": "stdout",
     "output_type": "stream",
     "text": [
      "inside phone\n",
      "buying a phone\n"
     ]
    }
   ],
   "source": [
    "f= featurephone(2000,\"lg\")\n",
    "f.buy()"
   ]
  },
  {
   "cell_type": "code",
   "execution_count": 12,
   "id": "ad1d231a",
   "metadata": {},
   "outputs": [
    {
     "name": "stdout",
     "output_type": "stream",
     "text": [
      "inside phone\n",
      "buying a phone\n",
      "product review\n"
     ]
    }
   ],
   "source": [
    "### multiple = mutiple parent, single child\n",
    "\n",
    "\n",
    "class product:\n",
    "    \n",
    "    def review(self):\n",
    "        print(\"product review\")\n",
    "    \n",
    "    \n",
    "class phone:\n",
    "    \n",
    "    def __init__(self,price,brand):\n",
    "        print(\"inside phone\")\n",
    "        self.price= price\n",
    "        self.brand = brand\n",
    "        \n",
    "    def buy(self):\n",
    "        print(\"buying a phone\")\n",
    "        \n",
    "class smartphone(phone, product):   ### child can access both parent, condition - whichever written first will invoke\n",
    "    pass                            ## method resolution order \n",
    "\n",
    "\n",
    "s= smartphone (2000,\"apple\")\n",
    "\n",
    "s.buy()\n",
    "s.review()"
   ]
  },
  {
   "cell_type": "code",
   "execution_count": null,
   "id": "b0a929f5",
   "metadata": {},
   "outputs": [],
   "source": []
  }
 ],
 "metadata": {
  "kernelspec": {
   "display_name": "Python 3 (ipykernel)",
   "language": "python",
   "name": "python3"
  },
  "language_info": {
   "codemirror_mode": {
    "name": "ipython",
    "version": 3
   },
   "file_extension": ".py",
   "mimetype": "text/x-python",
   "name": "python",
   "nbconvert_exporter": "python",
   "pygments_lexer": "ipython3",
   "version": "3.11.5"
  }
 },
 "nbformat": 4,
 "nbformat_minor": 5
}
