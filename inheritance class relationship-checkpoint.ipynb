{
 "cells": [
  {
   "cell_type": "code",
   "execution_count": 1,
   "id": "e93b3599",
   "metadata": {},
   "outputs": [],
   "source": [
    "## inheritane - benefit - code reusability"
   ]
  },
  {
   "cell_type": "code",
   "execution_count": 2,
   "id": "7f9613ac",
   "metadata": {},
   "outputs": [],
   "source": [
    "# child class inherots from parent class\n",
    "# - all data members variable\n",
    "# - methods\n",
    "# - constructor\n",
    "\n",
    "#### private members  (__)  not inherited "
   ]
  },
  {
   "cell_type": "code",
   "execution_count": 3,
   "id": "bd8bd885",
   "metadata": {},
   "outputs": [],
   "source": [
    "class User:\n",
    "    \n",
    "    def login(self):\n",
    "        print(\"login\")\n",
    "        \n",
    "    def register(self):\n",
    "        print(\"register\")\n",
    "        \n",
    "class Student(User):     ## student sub class of user\n",
    "    \n",
    "    def enroll(self):\n",
    "        print(\"enroll\")\n",
    "        \n",
    "    def review(self):\n",
    "        print(\"review\")\n",
    "    \n",
    "    \n",
    "stu1= Student()"
   ]
  },
  {
   "cell_type": "code",
   "execution_count": 4,
   "id": "090630d3",
   "metadata": {},
   "outputs": [
    {
     "name": "stdout",
     "output_type": "stream",
     "text": [
      "enroll\n"
     ]
    }
   ],
   "source": [
    "stu1.enroll()"
   ]
  },
  {
   "cell_type": "code",
   "execution_count": 8,
   "id": "92d93340",
   "metadata": {},
   "outputs": [
    {
     "name": "stdout",
     "output_type": "stream",
     "text": [
      "inside phone\n",
      "buying a smartphone\n",
      "buying a phone\n"
     ]
    }
   ],
   "source": [
    "##example of super. SUPER can access parent constuctor and methods, not attributes\n",
    "\n",
    "\n",
    "\n",
    "class phone:\n",
    "    \n",
    "    def __init__(self,price,brand):\n",
    "        print(\"inside phone\")\n",
    "        self.price= price\n",
    "        self.brand = brand\n",
    "        \n",
    "    def buy(self):\n",
    "        print(\"buying a phone\")\n",
    "        \n",
    "class smartphone(phone):\n",
    "    \n",
    "    def buy(self):\n",
    "        print(\"buying a smartphone\")\n",
    "        super().buy()      ### calls child and then parent methods also\n",
    "                           ## super doesnt work oustside code\n",
    "    \n",
    "    \n",
    "s = smartphone (20000,\"iphone\")\n",
    "\n",
    "s.buy()\n",
    "    "
   ]
  },
  {
   "cell_type": "code",
   "execution_count": 23,
   "id": "b74600a2",
   "metadata": {},
   "outputs": [
    {
     "name": "stdout",
     "output_type": "stream",
     "text": [
      "buying a smartphone\n",
      "inside phone\n",
      "mac\n",
      "iphone\n"
     ]
    }
   ],
   "source": [
    "## using super to inherit parent constructor and methods to for smart code\n",
    "\n",
    "## super key word helps to delegate work, half same initialisation will be taken from parent and rest will be initialised by child\n",
    "\n",
    "\n",
    "\n",
    "class phone:\n",
    "    \n",
    "    def __init__(self,price,brand):\n",
    "        print(\"inside phone\")\n",
    "        self.price= price\n",
    "        self.brand = brand\n",
    "        \n",
    "        \n",
    "class smartphone(phone):\n",
    "    \n",
    "    def __init__(self,price,brand,os,ram):\n",
    "        print(\"buying a smartphone\")\n",
    "        super().__init__(price,brand)\n",
    "        self.os= os\n",
    "        self.ram = ram\n",
    "        \n",
    "        \n",
    "s = smartphone(20000,\"iphone\",\"mac\",2)\n",
    "\n",
    "\n",
    "        \n",
    "print(s.os)\n",
    "print(s.brand)"
   ]
  },
  {
   "cell_type": "code",
   "execution_count": 13,
   "id": "0cb3ec22",
   "metadata": {},
   "outputs": [
    {
     "name": "stdout",
     "output_type": "stream",
     "text": [
      "mac\n"
     ]
    }
   ],
   "source": [
    "print(s.os)"
   ]
  },
  {
   "cell_type": "code",
   "execution_count": 14,
   "id": "d749c2b7",
   "metadata": {},
   "outputs": [
    {
     "name": "stdout",
     "output_type": "stream",
     "text": [
      "20000\n"
     ]
    }
   ],
   "source": [
    "print(s.price)"
   ]
  },
  {
   "cell_type": "code",
   "execution_count": 16,
   "id": "a4537f07",
   "metadata": {},
   "outputs": [
    {
     "name": "stdout",
     "output_type": "stream",
     "text": [
      "inside phone\n"
     ]
    },
    {
     "ename": "AttributeError",
     "evalue": "'smartphone' object has no attribute '__brand'",
     "output_type": "error",
     "traceback": [
      "\u001b[1;31m---------------------------------------------------------------------------\u001b[0m",
      "\u001b[1;31mAttributeError\u001b[0m                            Traceback (most recent call last)",
      "Cell \u001b[1;32mIn[16], line 17\u001b[0m\n\u001b[0;32m     14\u001b[0m     \u001b[38;5;28;01mpass\u001b[39;00m\n\u001b[0;32m     16\u001b[0m s \u001b[38;5;241m=\u001b[39m smartphone(\u001b[38;5;241m20000\u001b[39m,\u001b[38;5;124m\"\u001b[39m\u001b[38;5;124mapple\u001b[39m\u001b[38;5;124m\"\u001b[39m)\n\u001b[1;32m---> 17\u001b[0m \u001b[38;5;28mprint\u001b[39m(s\u001b[38;5;241m.\u001b[39m__brand())\n",
      "\u001b[1;31mAttributeError\u001b[0m: 'smartphone' object has no attribute '__brand'"
     ]
    }
   ],
   "source": [
    "## private data in parent \n",
    "\n",
    "\n",
    "class phone:\n",
    "    \n",
    "    def __init__(self,price,brand):\n",
    "        print(\"inside phone\")\n",
    "        self.price= price\n",
    "        self.__brand = brand\n",
    "        \n",
    "\n",
    "        \n",
    "class smartphone(phone):\n",
    "    pass\n",
    "\n",
    "s = smartphone(20000,\"apple\")\n",
    "print(s.__brand())\n"
   ]
  },
  {
   "cell_type": "code",
   "execution_count": 17,
   "id": "32c289de",
   "metadata": {},
   "outputs": [],
   "source": [
    "### above example will give error as child class object will not access private object "
   ]
  },
  {
   "cell_type": "code",
   "execution_count": 18,
   "id": "ab02735c",
   "metadata": {},
   "outputs": [
    {
     "name": "stdout",
     "output_type": "stream",
     "text": [
      "inside phone\n",
      "buying a smartphone\n"
     ]
    }
   ],
   "source": [
    "#### Polymorphism example ,both child and parent same method will only fetch child method is called, method overriding\n",
    "\n",
    "class phone:\n",
    "    \n",
    "    def __init__(self,price,brand):\n",
    "        print(\"inside phone\")\n",
    "        self.price= price\n",
    "        self.brand = brand\n",
    "        \n",
    "    def buy(self):\n",
    "        print(\"buying a phone\")\n",
    "        \n",
    "class smartphone(phone):\n",
    "    \n",
    "    def buy(self):\n",
    "        print(\"buying a smartphone\")\n",
    "        \n",
    "        \n",
    "s = smartphone (20000,\"apple\")\n",
    "\n",
    "s.buy()"
   ]
  },
  {
   "cell_type": "code",
   "execution_count": 19,
   "id": "4236e213",
   "metadata": {},
   "outputs": [],
   "source": [
    "### polymorphism types\n",
    "\n",
    "# method overriding\n",
    "# method overloading\n",
    "# operator overloading"
   ]
  },
  {
   "cell_type": "code",
   "execution_count": 20,
   "id": "4f35ada8",
   "metadata": {},
   "outputs": [],
   "source": [
    "## points to remember\n",
    "\n",
    "# child - no constructor -> parent constructor will use\n",
    "# child - have constructor -> will invoke child"
   ]
  },
  {
   "cell_type": "code",
   "execution_count": null,
   "id": "f06fe0ac",
   "metadata": {},
   "outputs": [],
   "source": []
  },
  {
   "cell_type": "code",
   "execution_count": null,
   "id": "77464b37",
   "metadata": {},
   "outputs": [],
   "source": []
  }
 ],
 "metadata": {
  "kernelspec": {
   "display_name": "Python 3 (ipykernel)",
   "language": "python",
   "name": "python3"
  },
  "language_info": {
   "codemirror_mode": {
    "name": "ipython",
    "version": 3
   },
   "file_extension": ".py",
   "mimetype": "text/x-python",
   "name": "python",
   "nbconvert_exporter": "python",
   "pygments_lexer": "ipython3",
   "version": "3.11.5"
  }
 },
 "nbformat": 4,
 "nbformat_minor": 5
}
