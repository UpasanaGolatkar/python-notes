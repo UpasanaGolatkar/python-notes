{
 "cells": [
  {
   "cell_type": "code",
   "execution_count": 1,
   "id": "23957208",
   "metadata": {},
   "outputs": [],
   "source": [
    "## Generators - simple way of creating iterators\n",
    "\n",
    "\n",
    "## benefits - ease implementation\n",
    "#-  memory efficient\n",
    "# represent infinite stream"
   ]
  },
  {
   "cell_type": "code",
   "execution_count": 2,
   "id": "b4050b24",
   "metadata": {},
   "outputs": [],
   "source": [
    "## iterator use?\n",
    "\n",
    "# range in iterators takes one item at time in memory and doesnt take much memory space."
   ]
  },
  {
   "cell_type": "code",
   "execution_count": 3,
   "id": "a21e0236",
   "metadata": {},
   "outputs": [],
   "source": [
    "# generator consist of yield not return"
   ]
  },
  {
   "cell_type": "code",
   "execution_count": 12,
   "id": "df8a317e",
   "metadata": {},
   "outputs": [],
   "source": [
    "def gen_demo():\n",
    "    \n",
    "    yield \"first upa\"\n",
    "    yield \"second upi\"\n",
    "    yield \"third up\""
   ]
  },
  {
   "cell_type": "code",
   "execution_count": 13,
   "id": "a2422893",
   "metadata": {},
   "outputs": [
    {
     "name": "stdout",
     "output_type": "stream",
     "text": [
      "first upa\n",
      "second upi\n",
      "third up\n"
     ]
    }
   ],
   "source": [
    "gen = gen_demo()\n",
    "print(next(gen))\n",
    "print(next(gen))\n",
    "print(next(gen))\n"
   ]
  },
  {
   "cell_type": "code",
   "execution_count": 15,
   "id": "70b147b1",
   "metadata": {},
   "outputs": [],
   "source": [
    "def square(num):\n",
    "    for i in range(1,num + 1):\n",
    "        yield i **2\n",
    "    "
   ]
  },
  {
   "cell_type": "code",
   "execution_count": 19,
   "id": "2acb6ca7",
   "metadata": {
    "scrolled": true
   },
   "outputs": [
    {
     "name": "stdout",
     "output_type": "stream",
     "text": [
      "1\n",
      "4\n",
      "9\n",
      "16\n",
      "25\n",
      "36\n",
      "49\n",
      "64\n",
      "81\n",
      "100\n"
     ]
    }
   ],
   "source": [
    "gen = square(10)\n",
    "\n",
    "for i in gen:\n",
    "    print(i)"
   ]
  },
  {
   "cell_type": "code",
   "execution_count": 20,
   "id": "6f29b47e",
   "metadata": {},
   "outputs": [],
   "source": [
    "### range in generators"
   ]
  },
  {
   "cell_type": "code",
   "execution_count": 21,
   "id": "e2e4e76a",
   "metadata": {},
   "outputs": [],
   "source": [
    "def my_range(start,end):\n",
    "    \n",
    "    for i in range(start,end):\n",
    "        yield i\n",
    "        \n",
    "        \n",
    "    "
   ]
  },
  {
   "cell_type": "code",
   "execution_count": 25,
   "id": "63c0aa05",
   "metadata": {},
   "outputs": [
    {
     "name": "stdout",
     "output_type": "stream",
     "text": [
      "20\n",
      "21\n",
      "22\n",
      "23\n",
      "24\n"
     ]
    }
   ],
   "source": [
    "for i in my_range(20,25):\n",
    "    print(i)"
   ]
  },
  {
   "cell_type": "code",
   "execution_count": 29,
   "id": "52aefca2",
   "metadata": {},
   "outputs": [
    {
     "name": "stdout",
     "output_type": "stream",
     "text": [
      "1\n",
      "4\n",
      "9\n",
      "16\n",
      "25\n",
      "36\n",
      "49\n",
      "64\n",
      "81\n"
     ]
    }
   ],
   "source": [
    "### generator expression\n",
    "\n",
    "\n",
    "gen = (i**2 for i in range(1,10)) \n",
    "\n",
    "for i in gen:\n",
    "    print (i)"
   ]
  },
  {
   "cell_type": "code",
   "execution_count": null,
   "id": "58c067aa",
   "metadata": {},
   "outputs": [],
   "source": []
  },
  {
   "cell_type": "code",
   "execution_count": null,
   "id": "ab161333",
   "metadata": {},
   "outputs": [],
   "source": []
  }
 ],
 "metadata": {
  "kernelspec": {
   "display_name": "Python 3 (ipykernel)",
   "language": "python",
   "name": "python3"
  },
  "language_info": {
   "codemirror_mode": {
    "name": "ipython",
    "version": 3
   },
   "file_extension": ".py",
   "mimetype": "text/x-python",
   "name": "python",
   "nbconvert_exporter": "python",
   "pygments_lexer": "ipython3",
   "version": "3.11.5"
  }
 },
 "nbformat": 4,
 "nbformat_minor": 5
}
