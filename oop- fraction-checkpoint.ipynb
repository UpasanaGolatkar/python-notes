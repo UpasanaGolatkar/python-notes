{
 "cells": [
  {
   "cell_type": "code",
   "execution_count": 57,
   "id": "25728194",
   "metadata": {},
   "outputs": [],
   "source": [
    "class Fraction:\n",
    "    \n",
    "    \n",
    "    def __init__(self,n,d):\n",
    "        self.num = n\n",
    "        self.den = d\n",
    "        \n",
    "        \n",
    "    def __str__(self):\n",
    "        return \"{}/{}\".format(self.num,self.den)\n",
    "    \n",
    "    def __add__(self,other):\n",
    "        \n",
    "        temp_num = self.num * other.den + other.num* self.den\n",
    "        temp_den = self.den* other.den\n",
    "        \n",
    "        return \"{}/{}\".format(temp_num,temp_den)\n",
    "    \n",
    "    \n",
    "    def __sub__(self,other):\n",
    "        \n",
    "        temp_num = self.num * other.den - other.num* self.den\n",
    "        temp_den = self.den* other.den\n",
    "        \n",
    "        return \"{}/{}\".format(temp_num,temp_den)\n",
    "    \n",
    "    def __mul__(self,other):\n",
    "        \n",
    "        temp_num = self.num * other.num\n",
    "        temp_den = self.den* other.den\n",
    "        \n",
    "        return \"{}/{}\".format(temp_num,temp_den)\n",
    "    \n",
    "    def __truediv__(self,other):\n",
    "        \n",
    "        temp_num = self.num * other.den\n",
    "        temp_den = self.den* other.den\n",
    "        \n",
    "        return \"{}/{}\".format(temp_num,temp_den)"
   ]
  },
  {
   "cell_type": "code",
   "execution_count": 58,
   "id": "94481a63",
   "metadata": {},
   "outputs": [
    {
     "name": "stdout",
     "output_type": "stream",
     "text": [
      "3/6\n"
     ]
    }
   ],
   "source": [
    "x = Fraction(3,6)\n",
    "print(x)"
   ]
  },
  {
   "cell_type": "code",
   "execution_count": 59,
   "id": "1ef3d652",
   "metadata": {},
   "outputs": [
    {
     "name": "stdout",
     "output_type": "stream",
     "text": [
      "4/9\n"
     ]
    }
   ],
   "source": [
    "y = Fraction(4,9)\n",
    "print(y)"
   ]
  },
  {
   "cell_type": "code",
   "execution_count": 60,
   "id": "a7ed3f45",
   "metadata": {},
   "outputs": [
    {
     "name": "stdout",
     "output_type": "stream",
     "text": [
      "51/54\n"
     ]
    }
   ],
   "source": [
    "print(x+y)"
   ]
  },
  {
   "cell_type": "code",
   "execution_count": 61,
   "id": "66694ec9",
   "metadata": {},
   "outputs": [
    {
     "name": "stdout",
     "output_type": "stream",
     "text": [
      "3/54\n"
     ]
    }
   ],
   "source": [
    "print(x-y)"
   ]
  },
  {
   "cell_type": "code",
   "execution_count": 62,
   "id": "f35d1b66",
   "metadata": {},
   "outputs": [
    {
     "name": "stdout",
     "output_type": "stream",
     "text": [
      "12/54\n"
     ]
    }
   ],
   "source": [
    "print(x*y)"
   ]
  },
  {
   "cell_type": "code",
   "execution_count": 63,
   "id": "765e7100",
   "metadata": {},
   "outputs": [
    {
     "name": "stdout",
     "output_type": "stream",
     "text": [
      "27/54\n"
     ]
    }
   ],
   "source": [
    "print(x/y)"
   ]
  },
  {
   "cell_type": "code",
   "execution_count": null,
   "id": "634e299b",
   "metadata": {},
   "outputs": [],
   "source": []
  }
 ],
 "metadata": {
  "kernelspec": {
   "display_name": "Python 3 (ipykernel)",
   "language": "python",
   "name": "python3"
  },
  "language_info": {
   "codemirror_mode": {
    "name": "ipython",
    "version": 3
   },
   "file_extension": ".py",
   "mimetype": "text/x-python",
   "name": "python",
   "nbconvert_exporter": "python",
   "pygments_lexer": "ipython3",
   "version": "3.11.5"
  }
 },
 "nbformat": 4,
 "nbformat_minor": 5
}
