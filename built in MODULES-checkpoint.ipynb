{
 "cells": [
  {
   "cell_type": "code",
   "execution_count": 1,
   "id": "db1a3ffa",
   "metadata": {},
   "outputs": [],
   "source": [
    "# what is MODULE\n",
    "\n",
    "# modules same as code library\n",
    "\n",
    "#module python file, set of functions, import to use "
   ]
  },
  {
   "cell_type": "code",
   "execution_count": 2,
   "id": "beb3971e",
   "metadata": {},
   "outputs": [
    {
     "name": "stdout",
     "output_type": "stream",
     "text": [
      "\n",
      "Please wait a moment while I gather a list of all available modules...\n",
      "\n"
     ]
    },
    {
     "name": "stderr",
     "output_type": "stream",
     "text": [
      "WARNING: AstropyDeprecationWarning: The private astropy._erfa module has been made into its own package, pyerfa, which is a dependency of astropy and can be imported directly using \"import erfa\" [astropy._erfa]\n",
      "Matplotlib is building the font cache; this may take a moment.\n",
      "C:\\Users\\hindl\\anaconda3\\Lib\\site-packages\\paramiko\\transport.py:219: CryptographyDeprecationWarning: Blowfish has been deprecated\n",
      "  \"class\": algorithms.Blowfish,\n",
      "C:\\Users\\hindl\\anaconda3\\Lib\\site-packages\\nltk\\twitter\\__init__.py:20: UserWarning: The twython library has not been installed. Some functionality from the twitter package will not be available.\n",
      "  warnings.warn(\n",
      "C:\\Users\\hindl\\anaconda3\\Lib\\pkgutil.py:92: NumbaPendingDeprecationWarning: \u001b[1mThe 'pycc' module is pending deprecation. Replacement technology is being developed.\n",
      "\n",
      "Pending Deprecation in Numba 0.57.0. For more information please see: https://numba.readthedocs.io/en/stable/reference/deprecation.html#deprecation-of-the-numba-pycc-module\u001b[0m\n",
      "  __import__(info.name)\n",
      "C:\\Users\\hindl\\anaconda3\\Lib\\pkgutil.py:92: UserWarning: The numpy.array_api submodule is still experimental. See NEP 47.\n",
      "  __import__(info.name)\n",
      "C:\\Users\\hindl\\anaconda3\\Lib\\site-packages\\_distutils_hack\\__init__.py:33: UserWarning: Setuptools is replacing distutils.\n",
      "  warnings.warn(\"Setuptools is replacing distutils.\")\n",
      "No QCoreApplication instance found. Application patches not applied. You have to call load_stylesheet function after instantiation of QApplication to take effect. \n",
      "None of PyTorch, TensorFlow >= 2.0, or Flax have been found. Models won't be available and only tokenizers, configuration and file/data utilities can be used.\n",
      "C:\\Users\\hindl\\anaconda3\\Lib\\pkgutil.py:107: VisibleDeprecationWarning:\n",
      "\n",
      "zmq.eventloop.minitornado is deprecated in pyzmq 14.0 and will be removed.\n",
      "    Install tornado itself to use zmq with the tornado IOLoop.\n",
      "    \n",
      "\n"
     ]
    },
    {
     "name": "stdout",
     "output_type": "stream",
     "text": [
      "IPython             concurrent          mdurl               smtplib\n",
      "OpenSSL             conda               menuinst            snappy\n",
      "PIL                 conda_build         mimetypes           sndhdr\n",
      "PyQt5               conda_content_trust mistune             sniffio\n",
      "TBB                 conda_env           mkl                 snowballstemmer\n",
      "__future__          conda_index         mkl_fft             socket\n",
      "__hello__           conda_libmamba_solver mmap                socketserver\n",
      "__phello__          conda_pack          mmapfile            socks\n",
      "_abc                conda_package_handling mmsystem            sockshandler\n",
      "_aix_support        conda_package_streaming modulefinder        sortedcontainers\n",
      "_argon2_cffi_bindings conda_token         more_itertools      soupsieve\n",
      "_ast                conda_verify        mpmath              sphinx\n",
      "_asyncio            configparser        msgpack             spyder\n",
      "_bisect             constantly          msilib              spyder_kernels\n",
      "_black_version      contextlib          msvcrt              sqlalchemy\n",
      "_blake2             contextvars         multidict           sqlite3\n",
      "_bootsubprocess     contourpy           multipledispatch    sre_compile\n",
      "_bz2                cookiecutter        multiprocess        sre_constants\n",
      "_cffi_backend       copy                multiprocessing     sre_parse\n",
      "_codecs             copyreg             munkres             ssl\n",
      "_codecs_cn          cpuinfo             mypy_extensions     sspi\n",
      "_codecs_hk          crypt               nacl                sspicon\n",
      "_codecs_iso2022     cryptography        navigator_updater   stack_data\n",
      "_codecs_jp          cssselect           nbclassic           stat\n",
      "_codecs_kr          csv                 nbclient            statistics\n",
      "_codecs_tw          ctypes              nbconvert           statsmodels\n",
      "_collections        curl                nbformat            string\n",
      "_collections_abc    curses              nest_asyncio        stringprep\n",
      "_compat_pickle      cwp                 netbios             struct\n",
      "_compression        cycler              netrc               subprocess\n",
      "_contextvars        cytoolz             networkx            sunau\n",
      "_csv                daal4py             nltk                sympy\n",
      "_ctypes             dask                nntplib             symtable\n",
      "_ctypes_test        dataclasses         notebook            sys\n",
      "_datetime           datasets            notebook_shim       sysconfig\n",
      "_decimal            datashader          nt                  tables\n",
      "_distutils_hack     datashape           ntpath              tabnanny\n",
      "_elementtree        datetime            ntsecuritycon       tabulate\n",
      "_functools          dateutil            nturl2path          tarfile\n",
      "_hashlib            dbi                 numba               tbb\n",
      "_heapq              dbm                 numbergen           tblib\n",
      "_imp                dde                 numbers             telnetlib\n",
      "_io                 debugpy             numexpr             tempfile\n",
      "_json               decimal             numpy               tenacity\n",
      "_locale             decorator           numpydoc            terminado\n",
      "_lsprof             defusedxml          odbc                test\n",
      "_lzma               diff_match_patch    onedal              test_pycosat\n",
      "_markupbase         difflib             opcode              text_unidecode\n",
      "_md5                dill                openpyxl            textdistance\n",
      "_msi                dis                 operator            textwrap\n",
      "_multibytecodec     distributed         optparse            this\n",
      "_multiprocess       distutils           os                  threading\n",
      "_multiprocessing    docstring_to_markdown packaging           threadpoolctl\n",
      "_nsis               doctest             pandas              three_merge\n",
      "_opcode             docutils            pandocfilters       tifffile\n",
      "_operator           dotenv              panel               time\n",
      "_osx_support        email               param               timeit\n",
      "_overlapped         encodings           paramiko            timer\n",
      "_pickle             ensurepip           parsel              tinycss2\n",
      "_plotly_future_     entrypoints         parso               tkinter\n",
      "_plotly_utils       enum                partd               tldextract\n",
      "_py_abc             erfa                past                tlz\n",
      "_pydecimal          errno               pathlib             token\n",
      "_pyio               et_xmlfile          pathspec            tokenize\n",
      "_pyrsistent_version executing           patsy               tokenizers\n",
      "_pytest             fastjsonschema      pdb                 toml\n",
      "_queue              faulthandler        pep8                tomlkit\n",
      "_random             filecmp             perfmon             tomllib\n",
      "_sha1               fileinput           pexpect             toolz\n",
      "_sha256             filelock            pickle              tornado\n",
      "_sha3               flake8              pickleshare         tqdm\n",
      "_sha512             flask               pickletools         trace\n",
      "_signal             fnmatch             pip                 traceback\n",
      "_sitebuiltins       fontTools           pipes               tracemalloc\n",
      "_socket             fractions           pkce                traitlets\n",
      "_sqlite3            frozenlist          pkg_resources       transformers\n",
      "_sre                fsspec              pkginfo             tty\n",
      "_ssl                ftplib              pkgutil             turtle\n",
      "_stat               functools           platform            turtledemo\n",
      "_statistics         future              platformdirs        twisted\n",
      "_string             gc                  plistlib            types\n",
      "_strptime           genericpath         plotly              typing\n",
      "_struct             gensim              pluggy              typing_extensions\n",
      "_symtable           getopt              ply                 tzdata\n",
      "_system_path        getpass             poplib              uc_micro\n",
      "_testbuffer         gettext             posixpath           ujson\n",
      "_testcapi           glob                poyo                unicodedata\n",
      "_testconsole        glob2               pprint              unidecode\n",
      "_testimportmultiple graphlib            profile             unittest\n",
      "_testinternalcapi   greenlet            prometheus_client   urllib\n",
      "_testmultiphase     gzip                prompt_toolkit      urllib3\n",
      "_thread             h5py                protego             uu\n",
      "_threading_local    hashlib             pstats              uuid\n",
      "_tkinter            heapdict            psutil              venv\n",
      "_tokenize           heapq               pty                 w3lib\n",
      "_tracemalloc        hmac                ptyprocess          warnings\n",
      "_typing             holoviews           pure_eval           watchdog\n",
      "_uuid               html                pvectorc            wave\n",
      "_warnings           http                py                  wcwidth\n",
      "_weakref            huggingface_hub     py_compile          weakref\n",
      "_weakrefset         hvplot              pyarrow             webbrowser\n",
      "_win32sysloader     hyperlink           pyasn1              webencodings\n",
      "_winapi             idlelib             pyasn1_modules      websocket\n",
      "_winxptheme         idna                pyclbr              werkzeug\n",
      "_xxsubinterpreters  imagecodecs         pycodestyle         whatthepatch\n",
      "_yaml               imageio             pycosat             wheel\n",
      "_zoneinfo           imagesize           pycparser           widgetsnbextension\n",
      "abc                 imaplib             pyct                win2kras\n",
      "adodbapi            imblearn            pycurl              win32api\n",
      "afxres              imghdr              pydantic            win32clipboard\n",
      "aifc                imp                 pydispatch          win32com\n",
      "aiobotocore         importlib           pydoc               win32con\n",
      "aiofiles            importlib_metadata  pydoc_data          win32console\n",
      "aiohttp             incremental         pydocstyle          win32cred\n",
      "aioitertools        inflection          pyexpat             win32crypt\n",
      "aiosignal           iniconfig           pyflakes            win32cryptcon\n",
      "aiosqlite           inspect             pygments            win32ctypes\n",
      "alabaster           intake              pylab               win32event\n",
      "anaconda_anon_usage intervaltree        pylint              win32evtlog\n",
      "anaconda_catalogs   io                  pylint_venv         win32evtlogutil\n",
      "anaconda_cloud_auth ipaddress           pyls_spyder         win32file\n",
      "anaconda_navigator  ipykernel           pylsp               win32gui\n",
      "anaconda_project    ipykernel_launcher  pylsp_black         win32gui_struct\n",
      "antigravity         ipython_genutils    pylsp_jsonrpc       win32help\n",
      "anyio               ipywidgets          pyodbc              win32inet\n",
      "appdirs             isapi               pyparsing           win32inetcon\n",
      "argon2              isort               pyrsistent          win32job\n",
      "argparse            isympy              pytest              win32lz\n",
      "array               itemadapter         pythoncom           win32net\n",
      "arrow               itemloaders         pythonjsonlogger    win32netcon\n",
      "ast                 itertools           pytoolconfig        win32pdh\n",
      "astroid             itsdangerous        pytz                win32pdhquery\n",
      "astropy             jedi                pyviz_comms         win32pdhutil\n",
      "asttokens           jellyfish           pywin               win32pipe\n",
      "async_timeout       jinja2              pywin32_bootstrap   win32print\n",
      "asynchat            jinja2_time         pywin32_testutil    win32process\n",
      "asyncio             jmespath            pywintypes          win32profile\n",
      "asyncore            joblib              pywt                win32ras\n",
      "atexit              json                qdarkstyle          win32rcparser\n",
      "atomicwrites        json5               qstylizer           win32security\n",
      "attr                jsonpatch           qtawesome           win32service\n",
      "attrs               jsonpointer         qtconsole           win32serviceutil\n",
      "audioop             jsonschema          qtpy                win32timezone\n",
      "automat             jupyter             queue               win32trace\n",
      "autopep8            jupyter_client      queuelib            win32traceutil\n",
      "babel               jupyter_console     quopri              win32transaction\n",
      "backcall            jupyter_core        random              win32ts\n",
      "backports           jupyter_events      rasutil             win32ui\n",
      "base64              jupyter_server      re                  win32uiole\n",
      "bcrypt              jupyter_server_fileid regcheck            win32verstamp\n",
      "bdb                 jupyter_server_ydoc regex               win32wnet\n",
      "binaryornot         jupyter_ydoc        regutil             win_inet_pton\n",
      "binascii            jupyterlab          repo_cli            winerror\n",
      "binstar_client      jupyterlab_plotly   reprlib             winioctlcon\n",
      "bisect              jupyterlab_pygments requests            winnt\n",
      "black               jupyterlab_server   requests_file       winperf\n",
      "blackd              jupyterlab_widgets  requests_toolbelt   winpty\n",
      "bleach              jwt                 responses           winreg\n",
      "blib2to3            kaleido             rfc3339_validator   winsound\n",
      "bokeh               keyring             rfc3986_validator   winxpgui\n",
      "boltons             keyword             rlcompleter         winxptheme\n",
      "botocore            kiwisolver          rope                wrapt\n",
      "bottleneck          lazy_loader         rtree               wsgiref\n",
      "brotli              lazy_object_proxy   ruamel_yaml         xarray\n",
      "bs4                 lib2to3             runpy               xdrlib\n",
      "builtins            libarchive          s3fs                xlwings\n",
      "bz2                 libfuturize         safetensors         xml\n",
      "cProfile            libmambapy          sched               xmlrpc\n",
      "calendar            libpasteurize       scipy               xxhash\n",
      "certifi             lief                scrapy              xxlimited\n",
      "cffi                linecache           seaborn             xxlimited_35\n",
      "cgi                 linkify_it          secrets             xxsubtype\n",
      "cgitb               llvmlite            select              xyzservices\n",
      "chardet             lmdb                selectors           y_py\n",
      "charset_normalizer  locale              send2trash          yaml\n",
      "chunk               locket              service_identity    yapf\n",
      "click               logging             servicemanager      yapftests\n",
      "cloudpickle         lxml                setuptools          yarl\n",
      "clyent              lz4                 shelve              ypy_websocket\n",
      "cmath               lzma                shlex               zict\n",
      "cmd                 mailbox             shutil              zipapp\n",
      "code                mailcap             signal              zipfile\n",
      "codecs              markdown            sipbuild            zipimport\n",
      "codeop              markdown_it         site                zipp\n",
      "collections         markupsafe          six                 zlib\n",
      "colorama            marshal             skimage             zmq\n",
      "colorcet            math                sklearn             zoneinfo\n",
      "colorsys            matplotlib          sklearnex           zope\n",
      "comm                matplotlib_inline   slugify             zstandard\n",
      "commctrl            mccabe              smart_open          \n",
      "compileall          mdit_py_plugins     smtpd               \n",
      "\n",
      "Enter any module name to get more help.  Or, type \"modules spam\" to search\n",
      "for modules whose name or summary contain the string \"spam\".\n",
      "\n"
     ]
    }
   ],
   "source": [
    "help('modules')"
   ]
  },
  {
   "cell_type": "code",
   "execution_count": 3,
   "id": "fe5ac12a",
   "metadata": {},
   "outputs": [],
   "source": [
    "import math"
   ]
  },
  {
   "cell_type": "code",
   "execution_count": 4,
   "id": "9212ccbc",
   "metadata": {},
   "outputs": [
    {
     "data": {
      "text/plain": [
       "<function math.acosh(x, /)>"
      ]
     },
     "execution_count": 4,
     "metadata": {},
     "output_type": "execute_result"
    }
   ],
   "source": [
    "math.acosh"
   ]
  },
  {
   "cell_type": "code",
   "execution_count": 5,
   "id": "f721a7d8",
   "metadata": {},
   "outputs": [
    {
     "data": {
      "text/plain": [
       "<function math.comb(n, k, /)>"
      ]
     },
     "execution_count": 5,
     "metadata": {},
     "output_type": "execute_result"
    }
   ],
   "source": [
    "math.comb"
   ]
  },
  {
   "cell_type": "code",
   "execution_count": 6,
   "id": "5ae7c488",
   "metadata": {},
   "outputs": [
    {
     "data": {
      "text/plain": [
       "3.141592653589793"
      ]
     },
     "execution_count": 6,
     "metadata": {},
     "output_type": "execute_result"
    }
   ],
   "source": [
    "math.pi"
   ]
  },
  {
   "cell_type": "code",
   "execution_count": 7,
   "id": "606a6987",
   "metadata": {},
   "outputs": [
    {
     "data": {
      "text/plain": [
       "<function math.hypot>"
      ]
     },
     "execution_count": 7,
     "metadata": {},
     "output_type": "execute_result"
    }
   ],
   "source": [
    "math.hypot"
   ]
  },
  {
   "cell_type": "code",
   "execution_count": 16,
   "id": "e277a650",
   "metadata": {},
   "outputs": [],
   "source": [
    "import random"
   ]
  },
  {
   "cell_type": "code",
   "execution_count": 17,
   "id": "016f1676",
   "metadata": {},
   "outputs": [
    {
     "data": {
      "text/plain": [
       "<bound method Random.choice of <random.Random object at 0x000001BDF0C858E0>>"
      ]
     },
     "execution_count": 17,
     "metadata": {},
     "output_type": "execute_result"
    }
   ],
   "source": [
    "random.choice"
   ]
  },
  {
   "cell_type": "code",
   "execution_count": 18,
   "id": "11fbe05c",
   "metadata": {},
   "outputs": [
    {
     "data": {
      "text/plain": [
       "6"
      ]
     },
     "execution_count": 18,
     "metadata": {},
     "output_type": "execute_result"
    }
   ],
   "source": [
    "random.randint(1,50)"
   ]
  },
  {
   "cell_type": "code",
   "execution_count": 21,
   "id": "eeea0986",
   "metadata": {},
   "outputs": [],
   "source": [
    "import time"
   ]
  },
  {
   "cell_type": "code",
   "execution_count": 22,
   "id": "ac062892",
   "metadata": {},
   "outputs": [
    {
     "data": {
      "text/plain": [
       "<function time.monotonic>"
      ]
     },
     "execution_count": 22,
     "metadata": {},
     "output_type": "execute_result"
    }
   ],
   "source": [
    "time.monotonic"
   ]
  },
  {
   "cell_type": "code",
   "execution_count": 26,
   "id": "bcff8444",
   "metadata": {},
   "outputs": [
    {
     "data": {
      "text/plain": [
       "1"
      ]
     },
     "execution_count": 26,
     "metadata": {},
     "output_type": "execute_result"
    }
   ],
   "source": [
    "time.daylight"
   ]
  },
  {
   "cell_type": "code",
   "execution_count": 28,
   "id": "fe36e4cc",
   "metadata": {},
   "outputs": [
    {
     "data": {
      "text/plain": [
       "'Fri Dec  8 14:36:41 2023'"
      ]
     },
     "execution_count": 28,
     "metadata": {},
     "output_type": "execute_result"
    }
   ],
   "source": [
    "time.ctime()"
   ]
  },
  {
   "cell_type": "code",
   "execution_count": 29,
   "id": "9b3b3936",
   "metadata": {},
   "outputs": [],
   "source": [
    "import os"
   ]
  },
  {
   "cell_type": "code",
   "execution_count": 30,
   "id": "7c129bdf",
   "metadata": {},
   "outputs": [
    {
     "data": {
      "text/plain": [
       "<function os.execl(file, *args)>"
      ]
     },
     "execution_count": 30,
     "metadata": {},
     "output_type": "execute_result"
    }
   ],
   "source": [
    "os.execl"
   ]
  },
  {
   "cell_type": "code",
   "execution_count": 31,
   "id": "e465ad2b",
   "metadata": {},
   "outputs": [
    {
     "data": {
      "text/plain": [
       "<function nt.close(fd)>"
      ]
     },
     "execution_count": 31,
     "metadata": {},
     "output_type": "execute_result"
    }
   ],
   "source": [
    "os.close"
   ]
  },
  {
   "cell_type": "code",
   "execution_count": 32,
   "id": "46f0da20",
   "metadata": {},
   "outputs": [
    {
     "data": {
      "text/plain": [
       "<function nt.rename(src, dst, *, src_dir_fd=None, dst_dir_fd=None)>"
      ]
     },
     "execution_count": 32,
     "metadata": {},
     "output_type": "execute_result"
    }
   ],
   "source": [
    "os.rename"
   ]
  },
  {
   "cell_type": "code",
   "execution_count": 33,
   "id": "d852fd1d",
   "metadata": {},
   "outputs": [],
   "source": [
    "import arrow"
   ]
  },
  {
   "cell_type": "code",
   "execution_count": 34,
   "id": "ddd01119",
   "metadata": {},
   "outputs": [
    {
     "data": {
      "text/plain": [
       "<module 'arrow.constants' from 'C:\\\\Users\\\\hindl\\\\anaconda3\\\\Lib\\\\site-packages\\\\arrow\\\\constants.py'>"
      ]
     },
     "execution_count": 34,
     "metadata": {},
     "output_type": "execute_result"
    }
   ],
   "source": [
    "arrow.constants"
   ]
  },
  {
   "cell_type": "code",
   "execution_count": 35,
   "id": "92d9aa6b",
   "metadata": {},
   "outputs": [],
   "source": [
    "import concurrent"
   ]
  },
  {
   "cell_type": "code",
   "execution_count": 36,
   "id": "cd87f885",
   "metadata": {},
   "outputs": [
    {
     "data": {
      "text/plain": [
       "<module 'concurrent.futures' from 'C:\\\\Users\\\\hindl\\\\anaconda3\\\\Lib\\\\concurrent\\\\futures\\\\__init__.py'>"
      ]
     },
     "execution_count": 36,
     "metadata": {},
     "output_type": "execute_result"
    }
   ],
   "source": [
    "concurrent.futures"
   ]
  },
  {
   "cell_type": "code",
   "execution_count": null,
   "id": "a11c6b3e",
   "metadata": {},
   "outputs": [],
   "source": []
  }
 ],
 "metadata": {
  "kernelspec": {
   "display_name": "Python 3 (ipykernel)",
   "language": "python",
   "name": "python3"
  },
  "language_info": {
   "codemirror_mode": {
    "name": "ipython",
    "version": 3
   },
   "file_extension": ".py",
   "mimetype": "text/x-python",
   "name": "python",
   "nbconvert_exporter": "python",
   "pygments_lexer": "ipython3",
   "version": "3.11.5"
  }
 },
 "nbformat": 4,
 "nbformat_minor": 5
}
