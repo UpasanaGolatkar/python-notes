{
 "cells": [
  {
   "cell_type": "code",
   "execution_count": 64,
   "id": "4008dc96",
   "metadata": {},
   "outputs": [],
   "source": [
    "class Atm:\n",
    "    \n",
    "    def __init__(self):\n",
    "        \n",
    "    \n",
    "        self.__pin = \"\"                  ### instance variable\n",
    "        self.__balance = 0\n",
    "        \n",
    "\n",
    "        self.__menu()\n",
    "        \n",
    "        \n",
    "        \n",
    "    def __menu(self):\n",
    "        \n",
    "        user_input = input(\"\"\"\n",
    "                     Hello, how will you like to proceed?\n",
    "                     1. Enter 1 to create pin\n",
    "                     2. Enter 2 to deposit cash\n",
    "                     3. Enter 3 to withdraw\n",
    "                     4. Enter 4 to check balance\n",
    "                     5. Enter 5 to exit\n",
    "             \"\"\")\n",
    "        \n",
    "        \n",
    "        if user_input == \"1\":\n",
    "            self.create_pin()\n",
    "        elif user_input == \"2\":\n",
    "            self.deposit()\n",
    "        elif user_input == \"3\":\n",
    "            self.withdraw()\n",
    "        elif user_input == \"4\":\n",
    "            self.account_balance()\n",
    "        else:\n",
    "            print(\"Thankyou\")\n",
    "            \n",
    "    \n",
    "    def create_pin(self):\n",
    "        self.__pin = input(\"Enter your pin\")\n",
    "        print (\"Pin set successfully\")\n",
    "        \n",
    "    def deposit(self):\n",
    "        temp = input('Enter your pin')\n",
    "        if temp == self.__pin:\n",
    "            amount = int(input('Enter the amount'))\n",
    "            self.__balance = self.__balance + amount\n",
    "            print(\"cash deposited successfully\")\n",
    "        else:\n",
    "            print('invalid pin')\n",
    "            \n",
    "    def withdraw(self):\n",
    "        temp = input('Enter your pin')\n",
    "        if temp == self.__pin:\n",
    "            amount = int(input('Enter the amount'))\n",
    "            if amount < self.__balance:\n",
    "                self.__balance = self.__balance- amount\n",
    "                print(\"transaction completed\")\n",
    "            else:\n",
    "                print('funds insufficient')\n",
    "        else:\n",
    "            print('invalid pin')\n",
    "            \n",
    "    def account_balance(self):\n",
    "        temp = input('Enter your pin')\n",
    "        if temp == self.__pin:\n",
    "            print(self.__balance)\n",
    "        else:\n",
    "            print('invalid pin')\n",
    "         "
   ]
  },
  {
   "cell_type": "code",
   "execution_count": 31,
   "id": "cd45a314",
   "metadata": {},
   "outputs": [
    {
     "name": "stdout",
     "output_type": "stream",
     "text": [
      "\n",
      "                     Hello, how will you like to proceed?\n",
      "                     1. Enter 1 to create pin\n",
      "                     2. Enter 2 to deposit cash\n",
      "                     3. Enter 3 to withdraw\n",
      "                     4. Enter 4 to check balance\n",
      "                     5. Enter 5 to exit\n",
      "             1\n",
      "Enter your pin1234\n",
      "Pin set successfully\n"
     ]
    }
   ],
   "source": [
    "sbi = Atm()\n"
   ]
  },
  {
   "cell_type": "code",
   "execution_count": 58,
   "id": "d9f611f6",
   "metadata": {},
   "outputs": [
    {
     "name": "stdout",
     "output_type": "stream",
     "text": [
      "Enter your pin1234\n",
      "Pin set successfully\n"
     ]
    }
   ],
   "source": [
    "sbi.create_pin()\n"
   ]
  },
  {
   "cell_type": "code",
   "execution_count": null,
   "id": "c6fd35d7",
   "metadata": {
    "scrolled": true
   },
   "outputs": [],
   "source": [
    "sbi."
   ]
  },
  {
   "cell_type": "code",
   "execution_count": 37,
   "id": "98ce957e",
   "metadata": {
    "scrolled": true
   },
   "outputs": [
    {
     "name": "stdout",
     "output_type": "stream",
     "text": [
      "\n",
      "                     Hello, how will you like to proceed?\n",
      "                     1. Enter 1 to create pin\n",
      "                     2. Enter 2 to deposit cash\n",
      "                     3. Enter 3 to withdraw\n",
      "                     4. Enter 4 to check balance\n",
      "                     5. Enter 5 to exit\n",
      "             1\n",
      "Enter your pin1234\n",
      "Pin set successfully\n"
     ]
    }
   ],
   "source": [
    "sbi=  Atm()"
   ]
  },
  {
   "cell_type": "code",
   "execution_count": 41,
   "id": "60aa1be8",
   "metadata": {},
   "outputs": [
    {
     "name": "stdout",
     "output_type": "stream",
     "text": [
      "\n",
      "                     Hello, how will you like to proceed?\n",
      "                     1. Enter 1 to create pin\n",
      "                     2. Enter 2 to deposit cash\n",
      "                     3. Enter 3 to withdraw\n",
      "                     4. Enter 4 to check balance\n",
      "                     5. Enter 5 to exit\n",
      "             4\n",
      "Enter your pin1234\n",
      "0\n"
     ]
    }
   ],
   "source": [
    "sbi.menu()"
   ]
  },
  {
   "cell_type": "code",
   "execution_count": null,
   "id": "2532e039",
   "metadata": {},
   "outputs": [],
   "source": [
    "hdfc = Atm()"
   ]
  },
  {
   "cell_type": "code",
   "execution_count": 46,
   "id": "16530f36",
   "metadata": {},
   "outputs": [
    {
     "name": "stdout",
     "output_type": "stream",
     "text": [
      "\n",
      "                     Hello, how will you like to proceed?\n",
      "                     1. Enter 1 to create pin\n",
      "                     2. Enter 2 to deposit cash\n",
      "                     3. Enter 3 to withdraw\n",
      "                     4. Enter 4 to check balance\n",
      "                     5. Enter 5 to exit\n",
      "             2\n",
      "Enter your pin1234\n",
      "invalid pin\n"
     ]
    }
   ],
   "source": [
    "sbi = Atm()"
   ]
  },
  {
   "cell_type": "code",
   "execution_count": 45,
   "id": "686cad30",
   "metadata": {},
   "outputs": [
    {
     "data": {
      "text/plain": [
       "0"
      ]
     },
     "execution_count": 45,
     "metadata": {},
     "output_type": "execute_result"
    }
   ],
   "source": [
    "sbi.balance\n"
   ]
  },
  {
   "cell_type": "code",
   "execution_count": 51,
   "id": "30ec9fab",
   "metadata": {},
   "outputs": [
    {
     "name": "stdout",
     "output_type": "stream",
     "text": [
      "Enter your pin1234\n",
      "invalid pin\n"
     ]
    }
   ],
   "source": [
    "sbi.deposit()"
   ]
  },
  {
   "cell_type": "code",
   "execution_count": 52,
   "id": "8d44bc85",
   "metadata": {},
   "outputs": [
    {
     "name": "stdout",
     "output_type": "stream",
     "text": [
      "\n",
      "                     Hello, how will you like to proceed?\n",
      "                     1. Enter 1 to create pin\n",
      "                     2. Enter 2 to deposit cash\n",
      "                     3. Enter 3 to withdraw\n",
      "                     4. Enter 4 to check balance\n",
      "                     5. Enter 5 to exit\n",
      "             1\n",
      "Enter your pin2356\n",
      "Pin set successfully\n"
     ]
    }
   ],
   "source": [
    "sbi = Atm()"
   ]
  },
  {
   "cell_type": "code",
   "execution_count": 53,
   "id": "39000078",
   "metadata": {},
   "outputs": [
    {
     "name": "stdout",
     "output_type": "stream",
     "text": [
      "Enter your pin2356\n",
      "Enter the amount50000\n",
      "cash deposited successfully\n"
     ]
    }
   ],
   "source": [
    "sbi.deposit()"
   ]
  },
  {
   "cell_type": "code",
   "execution_count": 55,
   "id": "18cd7776",
   "metadata": {},
   "outputs": [
    {
     "name": "stdout",
     "output_type": "stream",
     "text": [
      "Enter your pin2356\n",
      "Enter the amount5000\n",
      "transaction completed\n"
     ]
    }
   ],
   "source": [
    "sbi.withdraw()"
   ]
  },
  {
   "cell_type": "code",
   "execution_count": 65,
   "id": "3c5c5cdc",
   "metadata": {},
   "outputs": [
    {
     "name": "stdout",
     "output_type": "stream",
     "text": [
      "\n",
      "                     Hello, how will you like to proceed?\n",
      "                     1. Enter 1 to create pin\n",
      "                     2. Enter 2 to deposit cash\n",
      "                     3. Enter 3 to withdraw\n",
      "                     4. Enter 4 to check balance\n",
      "                     5. Enter 5 to exit\n",
      "             1\n",
      "Enter your pin1234\n",
      "Pin set successfully\n"
     ]
    }
   ],
   "source": [
    "sbi = Atm()"
   ]
  },
  {
   "cell_type": "code",
   "execution_count": null,
   "id": "568ea67f",
   "metadata": {},
   "outputs": [],
   "source": [
    "sbi."
   ]
  }
 ],
 "metadata": {
  "kernelspec": {
   "display_name": "Python 3 (ipykernel)",
   "language": "python",
   "name": "python3"
  },
  "language_info": {
   "codemirror_mode": {
    "name": "ipython",
    "version": 3
   },
   "file_extension": ".py",
   "mimetype": "text/x-python",
   "name": "python",
   "nbconvert_exporter": "python",
   "pygments_lexer": "ipython3",
   "version": "3.11.5"
  }
 },
 "nbformat": 4,
 "nbformat_minor": 5
}
