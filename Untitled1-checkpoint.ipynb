{
 "cells": [
  {
   "cell_type": "code",
   "execution_count": 1,
   "id": "e32dfbb1",
   "metadata": {},
   "outputs": [
    {
     "name": "stdout",
     "output_type": "stream",
     "text": [
      "enter first number67\n"
     ]
    }
   ],
   "source": [
    "first_num = input (\"enter first number\")"
   ]
  },
  {
   "cell_type": "code",
   "execution_count": 2,
   "id": "2a8ee19d",
   "metadata": {},
   "outputs": [
    {
     "name": "stdout",
     "output_type": "stream",
     "text": [
      "enter second number679\n"
     ]
    }
   ],
   "source": [
    "first_num = input (\"enter first number\")"
   ]
  },
  {
   "cell_type": "code",
   "execution_count": 3,
   "id": "4efef983",
   "metadata": {},
   "outputs": [
    {
     "name": "stdout",
     "output_type": "stream",
     "text": [
      "67\n",
      "679\n"
     ]
    }
   ],
   "source": [
    "print (first_num)\n",
    "print (second_num)"
   ]
  },
  {
   "cell_type": "code",
   "execution_count": 4,
   "id": "fff3d6ab",
   "metadata": {},
   "outputs": [
    {
     "name": "stdout",
     "output_type": "stream",
     "text": [
      "746\n"
     ]
    }
   ],
   "source": [
    "result = int(first_num) + int (second_num)\n",
    "print (result)"
   ]
  },
  {
   "cell_type": "code",
   "execution_count": 7,
   "id": "5cd5f7a4",
   "metadata": {},
   "outputs": [
    {
     "name": "stdout",
     "output_type": "stream",
     "text": [
      "enter first number6\n",
      "enter second number6\n",
      "12\n"
     ]
    }
   ],
   "source": [
    "first_num = int (input (\"enter first number\"))\n",
    "second_num = int (input('enter second number'))\n",
    "\n",
    "result = (first_num + second_num)\n",
    "print (result)"
   ]
  },
  {
   "cell_type": "code",
   "execution_count": null,
   "id": "ae2230a5",
   "metadata": {},
   "outputs": [],
   "source": []
  }
 ],
 "metadata": {
  "kernelspec": {
   "display_name": "Python 3 (ipykernel)",
   "language": "python",
   "name": "python3"
  },
  "language_info": {
   "codemirror_mode": {
    "name": "ipython",
    "version": 3
   },
   "file_extension": ".py",
   "mimetype": "text/x-python",
   "name": "python",
   "nbconvert_exporter": "python",
   "pygments_lexer": "ipython3",
   "version": "3.11.5"
  }
 },
 "nbformat": 4,
 "nbformat_minor": 5
}
