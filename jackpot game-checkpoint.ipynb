{
 "cells": [
  {
   "cell_type": "code",
   "execution_count": 2,
   "id": "a295fa54",
   "metadata": {},
   "outputs": [],
   "source": [
    "import random"
   ]
  },
  {
   "cell_type": "code",
   "execution_count": 6,
   "id": "c6ce7fbe",
   "metadata": {},
   "outputs": [
    {
     "data": {
      "text/plain": [
       "58"
      ]
     },
     "execution_count": 6,
     "metadata": {},
     "output_type": "execute_result"
    }
   ],
   "source": [
    "random.randint (1, 100)"
   ]
  },
  {
   "cell_type": "code",
   "execution_count": null,
   "id": "fcc34e04",
   "metadata": {},
   "outputs": [],
   "source": [
    "jackpot = random.randint (1,100)\n",
    "\n",
    "guess = int(input(\"guess your lucky number\"))\n",
    "counter = 1\n",
    "\n",
    "while guess != jackpot:\n",
    "    if guess < jackpot:\n",
    "        print ('Guess higher')\n",
    "    else:\n",
    "        print ('Guess lower')\n",
    "        \n",
    "    guess = int (input ('Enter your guess again'))\n",
    "    counter += 1\n",
    "    \n",
    "print ('You won the jackpot')\n",
    "print ('Your attempts are', counter)"
   ]
  },
  {
   "cell_type": "code",
   "execution_count": null,
   "id": "5d7a01e8",
   "metadata": {},
   "outputs": [],
   "source": []
  }
 ],
 "metadata": {
  "kernelspec": {
   "display_name": "Python 3 (ipykernel)",
   "language": "python",
   "name": "python3"
  },
  "language_info": {
   "codemirror_mode": {
    "name": "ipython",
    "version": 3
   },
   "file_extension": ".py",
   "mimetype": "text/x-python",
   "name": "python",
   "nbconvert_exporter": "python",
   "pygments_lexer": "ipython3",
   "version": "3.11.5"
  }
 },
 "nbformat": 4,
 "nbformat_minor": 5
}
