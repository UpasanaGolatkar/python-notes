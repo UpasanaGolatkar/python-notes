{
 "cells": [
  {
   "cell_type": "code",
   "execution_count": 3,
   "id": "b4a0e95b",
   "metadata": {},
   "outputs": [],
   "source": [
    "### classes of relationship = aggregation , inheritance"
   ]
  },
  {
   "cell_type": "code",
   "execution_count": 4,
   "id": "9dbe5109",
   "metadata": {},
   "outputs": [],
   "source": [
    "### aggregation - has a relationship -->  customer <>---- has a address"
   ]
  },
  {
   "cell_type": "code",
   "execution_count": 6,
   "id": "80d99d90",
   "metadata": {},
   "outputs": [],
   "source": [
    "## inheritance - is a relationship  -->   smartphone <|----  is a product"
   ]
  },
  {
   "cell_type": "code",
   "execution_count": null,
   "id": "e68b7784",
   "metadata": {},
   "outputs": [],
   "source": []
  },
  {
   "cell_type": "code",
   "execution_count": 22,
   "id": "99571b2f",
   "metadata": {},
   "outputs": [
    {
     "name": "stdout",
     "output_type": "stream",
     "text": [
      "nyc\n"
     ]
    }
   ],
   "source": [
    "class customer():\n",
    "    \n",
    "    def __init__(self,name,gender,address):\n",
    "        self.name = name\n",
    "        self.gender = gender\n",
    "        self.address = address\n",
    "        \n",
    "        \n",
    "    def edit_profile(self,new_name,new_gender,new_city,new_pin,new_state):\n",
    "        self.name = new_name\n",
    "        self.gender = new_gender\n",
    "        self.address.change_address(new_city,new_pin,new_state)\n",
    "        \n",
    "        \n",
    "class address():\n",
    "    \n",
    "    def __init__(self, city, pin, state):\n",
    "        self.city = city\n",
    "        self.pin = pin\n",
    "        self.state = state\n",
    "        \n",
    "        \n",
    "    def change_address(self,new_city,new_pin,new_state):\n",
    "        self.city = new_city\n",
    "        self.pin = new_pin\n",
    "        self.state = new_state\n",
    "        \n",
    "        \n",
    "  \n",
    "add=  address(\"nyc\",17054,\"ny\")\n",
    "    \n",
    "cust= customer(\"upa\",\"female\",add)\n",
    "\n",
    "#cust.edit_profile(\"mum\",1234,\"maha\")\n",
    "\n",
    "\n",
    "print(cust.address.city)\n",
    "\n"
   ]
  },
  {
   "cell_type": "code",
   "execution_count": 20,
   "id": "413ac778",
   "metadata": {},
   "outputs": [
    {
     "name": "stdout",
     "output_type": "stream",
     "text": [
      "upa\n"
     ]
    }
   ],
   "source": [
    "print(cust.name)"
   ]
  },
  {
   "cell_type": "code",
   "execution_count": 24,
   "id": "6fad7d56",
   "metadata": {},
   "outputs": [],
   "source": [
    "cust.edit_profile(\"dul\",\"male\",\"mum\",40044,\"maha\")"
   ]
  },
  {
   "cell_type": "code",
   "execution_count": 28,
   "id": "3942d15f",
   "metadata": {},
   "outputs": [
    {
     "name": "stdout",
     "output_type": "stream",
     "text": [
      "male\n"
     ]
    }
   ],
   "source": [
    "print(cust.gender)"
   ]
  },
  {
   "cell_type": "code",
   "execution_count": 29,
   "id": "d7cf45c7",
   "metadata": {},
   "outputs": [
    {
     "name": "stdout",
     "output_type": "stream",
     "text": [
      "dul\n"
     ]
    }
   ],
   "source": [
    "print(cust.name)"
   ]
  },
  {
   "cell_type": "code",
   "execution_count": null,
   "id": "5b7b2cf5",
   "metadata": {},
   "outputs": [],
   "source": [
    " "
   ]
  }
 ],
 "metadata": {
  "kernelspec": {
   "display_name": "Python 3 (ipykernel)",
   "language": "python",
   "name": "python3"
  },
  "language_info": {
   "codemirror_mode": {
    "name": "ipython",
    "version": 3
   },
   "file_extension": ".py",
   "mimetype": "text/x-python",
   "name": "python",
   "nbconvert_exporter": "python",
   "pygments_lexer": "ipython3",
   "version": "3.11.5"
  }
 },
 "nbformat": 4,
 "nbformat_minor": 5
}
