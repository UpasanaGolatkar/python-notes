{
 "cells": [
  {
   "cell_type": "code",
   "execution_count": 1,
   "id": "ca0c4944",
   "metadata": {},
   "outputs": [
    {
     "name": "stdout",
     "output_type": "stream",
     "text": [
      "67\n"
     ]
    },
    {
     "data": {
      "text/plain": [
       "'67'"
      ]
     },
     "execution_count": 1,
     "metadata": {},
     "output_type": "execute_result"
    }
   ],
   "source": [
    "input ()"
   ]
  },
  {
   "cell_type": "code",
   "execution_count": null,
   "id": "83229ac6",
   "metadata": {},
   "outputs": [],
   "source": [
    "first_num = input (\"enter first number\")"
   ]
  },
  {
   "cell_type": "code",
   "execution_count": null,
   "id": "93f87b3d",
   "metadata": {},
   "outputs": [],
   "source": [
    "second_num = input('enter second number')"
   ]
  },
  {
   "cell_type": "code",
   "execution_count": null,
   "id": "1e0c9ec5",
   "metadata": {},
   "outputs": [],
   "source": [
    "print (first_num)\n",
    "print (second_num)"
   ]
  },
  {
   "cell_type": "code",
   "execution_count": 19,
   "id": "ba5b92e0",
   "metadata": {},
   "outputs": [
    {
     "ename": "TypeError",
     "evalue": "'int' object is not callable",
     "output_type": "error",
     "traceback": [
      "\u001b[1;31m---------------------------------------------------------------------------\u001b[0m",
      "\u001b[1;31mTypeError\u001b[0m                                 Traceback (most recent call last)",
      "Cell \u001b[1;32mIn[19], line 2\u001b[0m\n\u001b[0;32m      1\u001b[0m result \u001b[38;5;241m=\u001b[39m (first_num \u001b[38;5;241m+\u001b[39m second_num)\n\u001b[1;32m----> 2\u001b[0m \u001b[38;5;28mprint\u001b[39m (result)\n",
      "\u001b[1;31mTypeError\u001b[0m: 'int' object is not callable"
     ]
    }
   ],
   "source": [
    "result = (first_num + second_num)\n",
    "print (result)"
   ]
  },
  {
   "cell_type": "code",
   "execution_count": 18,
   "id": "8e6d0417",
   "metadata": {},
   "outputs": [],
   "source": [
    "# user input comes to programmer in str, thats why above add didnt work\n",
    "# str universal form\n"
   ]
  },
  {
   "cell_type": "code",
   "execution_count": 10,
   "id": "22b6fee0",
   "metadata": {},
   "outputs": [
    {
     "data": {
      "text/plain": [
       "'67'"
      ]
     },
     "execution_count": 10,
     "metadata": {},
     "output_type": "execute_result"
    }
   ],
   "source": [
    "first_num"
   ]
  },
  {
   "cell_type": "code",
   "execution_count": 11,
   "id": "04b90423",
   "metadata": {},
   "outputs": [],
   "source": [
    "# str needs to convert into int = type conversion\n",
    "# implicit python does itslef\n",
    "# explicit"
   ]
  },
  {
   "cell_type": "code",
   "execution_count": 13,
   "id": "fd6f2246",
   "metadata": {},
   "outputs": [],
   "source": [
    "print = int(result)"
   ]
  },
  {
   "cell_type": "code",
   "execution_count": null,
   "id": "cd426716",
   "metadata": {},
   "outputs": [],
   "source": [
    "first_num = input (\"enter first number\")"
   ]
  },
  {
   "cell_type": "code",
   "execution_count": null,
   "id": "ceab97db",
   "metadata": {},
   "outputs": [],
   "source": []
  }
 ],
 "metadata": {
  "kernelspec": {
   "display_name": "Python 3 (ipykernel)",
   "language": "python",
   "name": "python3"
  },
  "language_info": {
   "codemirror_mode": {
    "name": "ipython",
    "version": 3
   },
   "file_extension": ".py",
   "mimetype": "text/x-python",
   "name": "python",
   "nbconvert_exporter": "python",
   "pygments_lexer": "ipython3",
   "version": "3.11.5"
  }
 },
 "nbformat": 4,
 "nbformat_minor": 5
}
