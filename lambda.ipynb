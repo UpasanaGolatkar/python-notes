{
 "cells": [
  {
   "cell_type": "code",
   "execution_count": 1,
   "id": "ca656133",
   "metadata": {},
   "outputs": [
    {
     "data": {
      "text/plain": [
       "<function __main__.<lambda>(input)>"
      ]
     },
     "execution_count": 1,
     "metadata": {},
     "output_type": "execute_result"
    }
   ],
   "source": [
    "lambda input : expression"
   ]
  },
  {
   "cell_type": "code",
   "execution_count": 2,
   "id": "31bda43f",
   "metadata": {},
   "outputs": [
    {
     "data": {
      "text/plain": [
       "81"
      ]
     },
     "execution_count": 2,
     "metadata": {},
     "output_type": "execute_result"
    }
   ],
   "source": [
    "x = lambda x:x**2\n",
    "x (9)"
   ]
  },
  {
   "cell_type": "code",
   "execution_count": 3,
   "id": "eaf5e109",
   "metadata": {},
   "outputs": [
    {
     "data": {
      "text/plain": [
       "9"
      ]
     },
     "execution_count": 3,
     "metadata": {},
     "output_type": "execute_result"
    }
   ],
   "source": [
    "a =lambda x,y : x+y\n",
    "a(4,5)"
   ]
  },
  {
   "cell_type": "code",
   "execution_count": 4,
   "id": "0c3f8dbe",
   "metadata": {},
   "outputs": [],
   "source": [
    "### lambda functions difference\n",
    "# no return value\n",
    "# only one line\n",
    "# no code reusable, can use only once\n",
    "# no name"
   ]
  },
  {
   "cell_type": "code",
   "execution_count": 5,
   "id": "f83dd91a",
   "metadata": {},
   "outputs": [],
   "source": [
    "####why we use?\n",
    "\n",
    "#use with higher order function"
   ]
  },
  {
   "cell_type": "code",
   "execution_count": 7,
   "id": "b27edad7",
   "metadata": {},
   "outputs": [
    {
     "data": {
      "text/plain": [
       "True"
      ]
     },
     "execution_count": 7,
     "metadata": {},
     "output_type": "execute_result"
    }
   ],
   "source": [
    "b = lambda x:x [0] == 'a'\n",
    "b ('apple')"
   ]
  },
  {
   "cell_type": "code",
   "execution_count": 8,
   "id": "ee4d4a19",
   "metadata": {},
   "outputs": [
    {
     "data": {
      "text/plain": [
       "'even'"
      ]
     },
     "execution_count": 8,
     "metadata": {},
     "output_type": "execute_result"
    }
   ],
   "source": [
    "b = lambda x : \"even\" if x%2 == 0 else \"odd\"\n",
    "b(8)"
   ]
  },
  {
   "cell_type": "code",
   "execution_count": 9,
   "id": "8e275845",
   "metadata": {},
   "outputs": [],
   "source": [
    "### higher order function\n",
    "\n",
    "# input madhe funcion or return madhe function"
   ]
  },
  {
   "cell_type": "code",
   "execution_count": 27,
   "id": "32f1f4d6",
   "metadata": {},
   "outputs": [
    {
     "name": "stdout",
     "output_type": "stream",
     "text": [
      "202\n",
      "168\n",
      "150\n"
     ]
    }
   ],
   "source": [
    "def return_value (func, L):\n",
    "    \n",
    "    result = 0\n",
    "\n",
    "    for i in L:\n",
    "    \n",
    "        if func(i):\n",
    "            result= result+i\n",
    "        \n",
    "    return result\n",
    "    \n",
    "    \n",
    "L = [23,25,28,11,21,43,45,64,84,26]\n",
    "\n",
    "x = lambda x:x%2==0\n",
    "y = lambda x:x%2!=0\n",
    "z = lambda x:x%3==0\n",
    "\n",
    "print(return_value(x,L))\n",
    "print(return_value(y,L))\n",
    "print(return_value(z,L))"
   ]
  },
  {
   "cell_type": "code",
   "execution_count": null,
   "id": "3d915189",
   "metadata": {},
   "outputs": [],
   "source": []
  }
 ],
 "metadata": {
  "kernelspec": {
   "display_name": "Python 3 (ipykernel)",
   "language": "python",
   "name": "python3"
  },
  "language_info": {
   "codemirror_mode": {
    "name": "ipython",
    "version": 3
   },
   "file_extension": ".py",
   "mimetype": "text/x-python",
   "name": "python",
   "nbconvert_exporter": "python",
   "pygments_lexer": "ipython3",
   "version": "3.11.5"
  }
 },
 "nbformat": 4,
 "nbformat_minor": 5
}
