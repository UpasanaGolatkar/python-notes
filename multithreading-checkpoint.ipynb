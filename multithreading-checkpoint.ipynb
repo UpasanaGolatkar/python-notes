{
 "cells": [
  {
   "cell_type": "code",
   "execution_count": 1,
   "id": "e17aca02",
   "metadata": {},
   "outputs": [],
   "source": [
    "import threading"
   ]
  },
  {
   "cell_type": "code",
   "execution_count": 20,
   "id": "a42d944d",
   "metadata": {},
   "outputs": [],
   "source": [
    "import time"
   ]
  },
  {
   "cell_type": "code",
   "execution_count": 23,
   "id": "6f7bd860",
   "metadata": {},
   "outputs": [
    {
     "name": "stdout",
     "output_type": "stream",
     "text": [
      "sleeping for 4 seconds\n",
      "sleeping for 5 seconds\n",
      "sleeping for 1 seconds\n",
      "102539.3084759\n"
     ]
    }
   ],
   "source": [
    "def func(seconds):\n",
    "    print(f\"sleeping for {seconds} seconds\")\n",
    "    time.sleep(seconds)\n",
    "    \n",
    "\n",
    "    \n",
    "func(4)\n",
    "func(5)\n",
    "func(1)\n",
    "\n",
    "time1 = time.perf_counter()\n",
    "print(time1)"
   ]
  },
  {
   "cell_type": "code",
   "execution_count": 19,
   "id": "3d544700",
   "metadata": {},
   "outputs": [],
   "source": [
    "## above 3 function will start one after other, after 4 sec, then after 5 sec and last after 1 sec\n",
    "\n",
    "## to operate all functions together use = multithreading"
   ]
  },
  {
   "cell_type": "code",
   "execution_count": 33,
   "id": "81e96e3d",
   "metadata": {},
   "outputs": [
    {
     "name": "stdout",
     "output_type": "stream",
     "text": [
      "sleeping for 4 seconds\n",
      "sleeping for 2 seconds\n",
      "sleeping for 1 seconds\n",
      "104624.1904571\n"
     ]
    }
   ],
   "source": [
    "t1 = threading.Thread(target= func, args= [4])\n",
    "t2 = threading.Thread(target= func, args= [2])\n",
    "t3 = threading.Thread(target= func, args= [1])\n",
    "\n",
    "t1.start()\n",
    "t2.start()\n",
    "t3.start()\n",
    "\n",
    "t1.join()\n",
    "t2.join()\n",
    "t3.join()\n",
    "\n",
    "\n",
    "time2 = time.perf_counter()\n",
    "print(time2)"
   ]
  },
  {
   "cell_type": "code",
   "execution_count": 30,
   "id": "25be37af",
   "metadata": {
    "scrolled": true
   },
   "outputs": [
    {
     "name": "stdout",
     "output_type": "stream",
     "text": [
      "224.56532899999002\n"
     ]
    }
   ],
   "source": [
    "print(time2 - time1)"
   ]
  },
  {
   "cell_type": "code",
   "execution_count": 35,
   "id": "25d9c16a",
   "metadata": {},
   "outputs": [],
   "source": [
    "from concurrent.futures import ThreadPoolExecutor"
   ]
  },
  {
   "cell_type": "code",
   "execution_count": 46,
   "id": "ea0ab2f5",
   "metadata": {},
   "outputs": [
    {
     "name": "stdout",
     "output_type": "stream",
     "text": [
      "sleeping for 3 seconds\n",
      "None\n",
      "sleeping for 5 seconds\n",
      "None\n"
     ]
    }
   ],
   "source": [
    "def pool():\n",
    "\n",
    "\n",
    "    with ThreadPoolExecutor() as executor:\n",
    "        future = executor.submit(func,3)\n",
    "        print(future.result())\n",
    "        future = executor.submit(func,5)\n",
    "        print(future.result())\n",
    "   \n",
    "\n",
    "pool()\n",
    "\n"
   ]
  },
  {
   "cell_type": "code",
   "execution_count": 44,
   "id": "0fee28da",
   "metadata": {},
   "outputs": [],
   "source": [
    "### when there are 100 url use map\n"
   ]
  },
  {
   "cell_type": "code",
   "execution_count": 45,
   "id": "2233021a",
   "metadata": {},
   "outputs": [
    {
     "ename": "NameError",
     "evalue": "name 'executor' is not defined",
     "output_type": "error",
     "traceback": [
      "\u001b[1;31m---------------------------------------------------------------------------\u001b[0m",
      "\u001b[1;31mNameError\u001b[0m                                 Traceback (most recent call last)",
      "Cell \u001b[1;32mIn[45], line 3\u001b[0m\n\u001b[0;32m      1\u001b[0m l \u001b[38;5;241m=\u001b[39m  [ \u001b[38;5;241m3\u001b[39m,\u001b[38;5;241m8\u001b[39m,\u001b[38;5;241m6\u001b[39m,\u001b[38;5;241m4\u001b[39m]\n\u001b[1;32m----> 3\u001b[0m results \u001b[38;5;241m=\u001b[39m executor\u001b[38;5;241m.\u001b[39mmap(func,l)\n\u001b[0;32m      5\u001b[0m \u001b[38;5;28;01mfor\u001b[39;00m result \u001b[38;5;129;01min\u001b[39;00m results:\n\u001b[0;32m      6\u001b[0m     \u001b[38;5;28mprint\u001b[39m(result)\n",
      "\u001b[1;31mNameError\u001b[0m: name 'executor' is not defined"
     ]
    }
   ],
   "source": [
    "l =  [ 3,8,6,4]\n",
    "\n",
    "results = executor.map(func,l)\n",
    "\n",
    "for result in results:\n",
    "    print(result)"
   ]
  },
  {
   "cell_type": "code",
   "execution_count": null,
   "id": "ccca7ddd",
   "metadata": {},
   "outputs": [],
   "source": []
  }
 ],
 "metadata": {
  "kernelspec": {
   "display_name": "Python 3 (ipykernel)",
   "language": "python",
   "name": "python3"
  },
  "language_info": {
   "codemirror_mode": {
    "name": "ipython",
    "version": 3
   },
   "file_extension": ".py",
   "mimetype": "text/x-python",
   "name": "python",
   "nbconvert_exporter": "python",
   "pygments_lexer": "ipython3",
   "version": "3.11.5"
  }
 },
 "nbformat": 4,
 "nbformat_minor": 5
}
