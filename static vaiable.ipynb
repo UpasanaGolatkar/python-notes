{
 "cells": [
  {
   "cell_type": "code",
   "execution_count": 1,
   "id": "626f5cd6",
   "metadata": {},
   "outputs": [],
   "source": [
    "### atm example\n",
    "\n",
    "\n",
    "#### instance vaiable = value different for every objects    (eg= pin, balance)   INSIDE CONSTRUCTOR\n",
    "\n",
    "### static/ class variable = value same for every objects   (isfc , serial no)    OUTSIDE CONSTRUCTOR"
   ]
  },
  {
   "cell_type": "code",
   "execution_count": 14,
   "id": "0b52f999",
   "metadata": {},
   "outputs": [],
   "source": [
    "class Atm:\n",
    "    \n",
    "    __counter = 1   ### static  (no one should change,so put __ (private)) but if you want other to change, use get setter)\n",
    "\n",
    "    def __init__(self):\n",
    "        \n",
    "    \n",
    "        self.__pin = \"\"                  ### instance variable\n",
    "        self.__balance = 0\n",
    "        self.sno = Atm.counter\n",
    "        Atm.__counter = Atm.__counter + 1\n",
    "\n",
    "        self.__menu()\n",
    "      \n",
    "    \n",
    "    @staticmethod\n",
    "   ## def get_counter():         ## allowing to see and change      ## static doesnt pass self\n",
    "        return Atm.__counter\n",
    "    \n",
    "    @staticmethod\n",
    "   ## def set_counter(new):\n",
    "        if type(new)==int:\n",
    "            Atm.__counter = new\n",
    "        else:\n",
    "            print(\"NA\")\n",
    "        \n",
    "        \n",
    "    def __menu(self):\n",
    "        \n",
    "        user_input = input(\"\"\"\n",
    "                     Hello, how will you like to proceed?\n",
    "                     1. Enter 1 to create pin\n",
    "                     2. Enter 2 to deposit cash\n",
    "                     3. Enter 3 to withdraw\n",
    "                     4. Enter 4 to check balance\n",
    "                     5. Enter 5 to exit\n",
    "             \"\"\")\n",
    "        \n",
    "        \n",
    "        if user_input == \"1\":\n",
    "            self.create_pin()\n",
    "        elif user_input == \"2\":\n",
    "            self.deposit()\n",
    "        elif user_input == \"3\":\n",
    "            self.withdraw()\n",
    "        elif user_input == \"4\":\n",
    "            self.account_balance()\n",
    "        else:\n",
    "            print(\"Thankyou\")\n",
    "            \n",
    "    \n",
    "    def create_pin(self):\n",
    "        self.__pin = input(\"Enter your pin\")\n",
    "        print (\"Pin set successfully\")\n",
    "        \n",
    "    def deposit(self):\n",
    "        temp = input('Enter your pin')\n",
    "        if temp == self.__pin:\n",
    "            amount = int(input('Enter the amount'))\n",
    "            self.__balance = self.__balance + amount\n",
    "            print(\"cash deposited successfully\")\n",
    "        else:\n",
    "            print('invalid pin')\n",
    "            \n",
    "    def withdraw(self):\n",
    "        temp = input('Enter your pin')\n",
    "        if temp == self.__pin:\n",
    "            amount = int(input('Enter the amount'))\n",
    "            if amount < self.__balance:\n",
    "                self.__balance = self.__balance- amount\n",
    "                print(\"transaction completed\")\n",
    "            else:\n",
    "                print('funds insufficient')\n",
    "        else:\n",
    "            print('invalid pin')\n",
    "            \n",
    "    def account_balance(self):\n",
    "        temp = input('Enter your pin')\n",
    "        if temp == self.__pin:\n",
    "            print(self.__balance)\n",
    "        else:\n",
    "            print('invalid pin')"
   ]
  },
  {
   "cell_type": "code",
   "execution_count": 31,
   "id": "d820e8d7",
   "metadata": {},
   "outputs": [
    {
     "ename": "AttributeError",
     "evalue": "type object 'Atm' has no attribute 'counter'",
     "output_type": "error",
     "traceback": [
      "\u001b[1;31m---------------------------------------------------------------------------\u001b[0m",
      "\u001b[1;31mAttributeError\u001b[0m                            Traceback (most recent call last)",
      "Cell \u001b[1;32mIn[31], line 1\u001b[0m\n\u001b[1;32m----> 1\u001b[0m c1 \u001b[38;5;241m=\u001b[39m Atm()\n",
      "Cell \u001b[1;32mIn[14], line 10\u001b[0m, in \u001b[0;36mAtm.__init__\u001b[1;34m(self)\u001b[0m\n\u001b[0;32m      8\u001b[0m \u001b[38;5;28mself\u001b[39m\u001b[38;5;241m.\u001b[39m__pin \u001b[38;5;241m=\u001b[39m \u001b[38;5;124m\"\u001b[39m\u001b[38;5;124m\"\u001b[39m                  \u001b[38;5;66;03m### instance variable\u001b[39;00m\n\u001b[0;32m      9\u001b[0m \u001b[38;5;28mself\u001b[39m\u001b[38;5;241m.\u001b[39m__balance \u001b[38;5;241m=\u001b[39m \u001b[38;5;241m0\u001b[39m\n\u001b[1;32m---> 10\u001b[0m \u001b[38;5;28mself\u001b[39m\u001b[38;5;241m.\u001b[39msno \u001b[38;5;241m=\u001b[39m Atm\u001b[38;5;241m.\u001b[39mcounter\n\u001b[0;32m     11\u001b[0m Atm\u001b[38;5;241m.\u001b[39m__counter \u001b[38;5;241m=\u001b[39m Atm\u001b[38;5;241m.\u001b[39m__counter \u001b[38;5;241m+\u001b[39m \u001b[38;5;241m1\u001b[39m\n\u001b[0;32m     13\u001b[0m \u001b[38;5;28mself\u001b[39m\u001b[38;5;241m.\u001b[39m__menu()\n",
      "\u001b[1;31mAttributeError\u001b[0m: type object 'Atm' has no attribute 'counter'"
     ]
    }
   ],
   "source": [
    "c1 = Atm()"
   ]
  },
  {
   "cell_type": "code",
   "execution_count": 30,
   "id": "f6bbcbf6",
   "metadata": {},
   "outputs": [],
   "source": [
    "Atm.set_counter(5)  ##( total number)"
   ]
  },
  {
   "cell_type": "code",
   "execution_count": 24,
   "id": "19d66bae",
   "metadata": {},
   "outputs": [
    {
     "data": {
      "text/plain": [
       "5"
      ]
     },
     "execution_count": 24,
     "metadata": {},
     "output_type": "execute_result"
    }
   ],
   "source": [
    "Atm.get_counter()"
   ]
  },
  {
   "cell_type": "code",
   "execution_count": null,
   "id": "cc6c41a7",
   "metadata": {},
   "outputs": [],
   "source": []
  }
 ],
 "metadata": {
  "kernelspec": {
   "display_name": "Python 3 (ipykernel)",
   "language": "python",
   "name": "python3"
  },
  "language_info": {
   "codemirror_mode": {
    "name": "ipython",
    "version": 3
   },
   "file_extension": ".py",
   "mimetype": "text/x-python",
   "name": "python",
   "nbconvert_exporter": "python",
   "pygments_lexer": "ipython3",
   "version": "3.11.5"
  }
 },
 "nbformat": 4,
 "nbformat_minor": 5
}
