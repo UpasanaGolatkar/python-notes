{
 "cells": [
  {
   "cell_type": "code",
   "execution_count": null,
   "id": "32d8b808",
   "metadata": {},
   "outputs": [],
   "source": [
    "email = input ('enter your email')\n",
    "password = input ('enter your password')\n",
    "\n",
    "if email == 'campusx@gmail.com' and password == '1234':\n",
    "    print ('welcome')\n",
    "elif email == 'campusx@gmail.com' and password != '1234':\n",
    "        print ('incorrect password')\n",
    "        password = input( 'please enter your correct password')\n",
    "        if password == '1234':\n",
    "        print ('correct password')\n",
    "        else: \n",
    "            print ('again incorrect password')\n",
    "else:\n",
    "    print ('incorrect credential')"
   ]
  },
  {
   "cell_type": "code",
   "execution_count": null,
   "id": "eb9d339a",
   "metadata": {},
   "outputs": [],
   "source": []
  },
  {
   "cell_type": "code",
   "execution_count": null,
   "id": "46f0ce03",
   "metadata": {},
   "outputs": [],
   "source": []
  }
 ],
 "metadata": {
  "kernelspec": {
   "display_name": "Python 3 (ipykernel)",
   "language": "python",
   "name": "python3"
  },
  "language_info": {
   "codemirror_mode": {
    "name": "ipython",
    "version": 3
   },
   "file_extension": ".py",
   "mimetype": "text/x-python",
   "name": "python",
   "nbconvert_exporter": "python",
   "pygments_lexer": "ipython3",
   "version": "3.11.5"
  }
 },
 "nbformat": 4,
 "nbformat_minor": 5
}
