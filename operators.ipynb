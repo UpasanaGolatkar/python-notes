{
 "cells": [
  {
   "cell_type": "code",
   "execution_count": 1,
   "id": "21c6ca76",
   "metadata": {},
   "outputs": [],
   "source": [
    "# arithemic operators\n"
   ]
  },
  {
   "cell_type": "code",
   "execution_count": 3,
   "id": "7c6732d2",
   "metadata": {},
   "outputs": [
    {
     "name": "stdout",
     "output_type": "stream",
     "text": [
      "9\n"
     ]
    }
   ],
   "source": [
    "x = 4\n",
    "y = 5\n",
    "\n",
    "print (x + y)"
   ]
  },
  {
   "cell_type": "code",
   "execution_count": 4,
   "id": "f500948e",
   "metadata": {},
   "outputs": [
    {
     "name": "stdout",
     "output_type": "stream",
     "text": [
      "-1\n"
     ]
    }
   ],
   "source": [
    "print (x- y)"
   ]
  },
  {
   "cell_type": "code",
   "execution_count": 5,
   "id": "ce013a33",
   "metadata": {},
   "outputs": [
    {
     "name": "stdout",
     "output_type": "stream",
     "text": [
      "20\n"
     ]
    }
   ],
   "source": [
    "print (x *y)"
   ]
  },
  {
   "cell_type": "code",
   "execution_count": 9,
   "id": "6aa5a3bd",
   "metadata": {},
   "outputs": [
    {
     "name": "stdout",
     "output_type": "stream",
     "text": [
      "1024\n"
     ]
    }
   ],
   "source": [
    "print(x**y) ## power of operator"
   ]
  },
  {
   "cell_type": "code",
   "execution_count": 6,
   "id": "84cc2ed6",
   "metadata": {},
   "outputs": [
    {
     "name": "stdout",
     "output_type": "stream",
     "text": [
      "0.8\n"
     ]
    }
   ],
   "source": [
    "print (x/ y)"
   ]
  },
  {
   "cell_type": "code",
   "execution_count": 7,
   "id": "7a027f98",
   "metadata": {},
   "outputs": [
    {
     "name": "stdout",
     "output_type": "stream",
     "text": [
      "0\n"
     ]
    }
   ],
   "source": [
    "print (x//y)  # integer divison"
   ]
  },
  {
   "cell_type": "code",
   "execution_count": 8,
   "id": "9e3b674d",
   "metadata": {},
   "outputs": [
    {
     "name": "stdout",
     "output_type": "stream",
     "text": [
      "4\n"
     ]
    }
   ],
   "source": [
    "print (x%y)   # modulus (divide)"
   ]
  },
  {
   "cell_type": "code",
   "execution_count": 9,
   "id": "9565d1af",
   "metadata": {},
   "outputs": [],
   "source": [
    "# comparison operators / relational"
   ]
  },
  {
   "cell_type": "code",
   "execution_count": 10,
   "id": "6932ad07",
   "metadata": {},
   "outputs": [
    {
     "name": "stdout",
     "output_type": "stream",
     "text": [
      "False\n"
     ]
    }
   ],
   "source": [
    "print (x >y)\n"
   ]
  },
  {
   "cell_type": "code",
   "execution_count": 11,
   "id": "24fc7dba",
   "metadata": {},
   "outputs": [
    {
     "name": "stdout",
     "output_type": "stream",
     "text": [
      "True\n"
     ]
    }
   ],
   "source": [
    "print (x <y )"
   ]
  },
  {
   "cell_type": "code",
   "execution_count": 13,
   "id": "ec1a9c96",
   "metadata": {},
   "outputs": [
    {
     "name": "stdout",
     "output_type": "stream",
     "text": [
      "True\n"
     ]
    }
   ],
   "source": [
    "print (x <=y)"
   ]
  },
  {
   "cell_type": "code",
   "execution_count": 15,
   "id": "4291b7d2",
   "metadata": {},
   "outputs": [
    {
     "name": "stdout",
     "output_type": "stream",
     "text": [
      "False\n",
      "True\n",
      "True\n"
     ]
    }
   ],
   "source": [
    "# logical operators and or not\n",
    "\n",
    "x = True\n",
    "y = False\n",
    "\n",
    "print (x and y)\n",
    "print (x or y)\n",
    "print (not y)"
   ]
  },
  {
   "cell_type": "code",
   "execution_count": 10,
   "id": "85d681f8",
   "metadata": {},
   "outputs": [
    {
     "name": "stdout",
     "output_type": "stream",
     "text": [
      "0\n"
     ]
    }
   ],
   "source": [
    "#bitwise operaors on binary values\n",
    "\n",
    "x = 3\n",
    "y = 4\n",
    "\n",
    "print (x & y)\n"
   ]
  },
  {
   "cell_type": "code",
   "execution_count": 11,
   "id": "6099b050",
   "metadata": {
    "scrolled": true
   },
   "outputs": [
    {
     "name": "stdout",
     "output_type": "stream",
     "text": [
      "7\n"
     ]
    }
   ],
   "source": [
    "print (x | y)"
   ]
  },
  {
   "cell_type": "code",
   "execution_count": 12,
   "id": "a4c40724",
   "metadata": {},
   "outputs": [
    {
     "name": "stdout",
     "output_type": "stream",
     "text": [
      "7\n"
     ]
    }
   ],
   "source": [
    "print(x^y)"
   ]
  },
  {
   "cell_type": "code",
   "execution_count": 18,
   "id": "3eca988a",
   "metadata": {},
   "outputs": [
    {
     "name": "stdout",
     "output_type": "stream",
     "text": [
      "0\n"
     ]
    }
   ],
   "source": [
    "print (x >> y)"
   ]
  },
  {
   "cell_type": "code",
   "execution_count": 19,
   "id": "ce49ac93",
   "metadata": {},
   "outputs": [
    {
     "name": "stdout",
     "output_type": "stream",
     "text": [
      "48\n"
     ]
    }
   ],
   "source": [
    "print (x << y)"
   ]
  },
  {
   "cell_type": "code",
   "execution_count": 20,
   "id": "4edf4ea9",
   "metadata": {},
   "outputs": [
    {
     "name": "stdout",
     "output_type": "stream",
     "text": [
      "-4\n"
     ]
    }
   ],
   "source": [
    "print (~x)"
   ]
  },
  {
   "cell_type": "code",
   "execution_count": 21,
   "id": "0ed869f8",
   "metadata": {},
   "outputs": [
    {
     "name": "stdout",
     "output_type": "stream",
     "text": [
      "6\n"
     ]
    }
   ],
   "source": [
    "# assignment operators\n",
    "\n",
    "a = 6\n",
    "print (a)"
   ]
  },
  {
   "cell_type": "code",
   "execution_count": 23,
   "id": "5368ee36",
   "metadata": {},
   "outputs": [
    {
     "name": "stdout",
     "output_type": "stream",
     "text": [
      "9\n"
     ]
    }
   ],
   "source": [
    "a +=3\n",
    "print (a)"
   ]
  },
  {
   "cell_type": "code",
   "execution_count": 24,
   "id": "3db7b3db",
   "metadata": {},
   "outputs": [
    {
     "name": "stdout",
     "output_type": "stream",
     "text": [
      "True\n"
     ]
    }
   ],
   "source": [
    "#identity operators doesnt imply it resides in same memory loaction (is /is not)\n",
    "\n",
    "a = 3\n",
    "b = 3\n",
    "\n",
    "print (a is b)"
   ]
  },
  {
   "cell_type": "code",
   "execution_count": 25,
   "id": "9c70417a",
   "metadata": {},
   "outputs": [
    {
     "name": "stdout",
     "output_type": "stream",
     "text": [
      "False\n"
     ]
    }
   ],
   "source": [
    "a = [1, 2, 3]\n",
    "b = [1,2,3]\n",
    "\n",
    "print (a is b)"
   ]
  },
  {
   "cell_type": "code",
   "execution_count": 26,
   "id": "08b3f9b0",
   "metadata": {},
   "outputs": [
    {
     "name": "stdout",
     "output_type": "stream",
     "text": [
      "True\n"
     ]
    }
   ],
   "source": [
    "# membership operators ( in / not in) applicable on tuples list dict\n",
    "\n",
    "x = 'delhi'\n",
    "\n",
    "print ('d'in x)\n"
   ]
  },
  {
   "cell_type": "code",
   "execution_count": 27,
   "id": "f1e00ee6",
   "metadata": {},
   "outputs": [
    {
     "name": "stdout",
     "output_type": "stream",
     "text": [
      "False\n"
     ]
    }
   ],
   "source": [
    "print ('a' in x)"
   ]
  },
  {
   "cell_type": "code",
   "execution_count": null,
   "id": "0980f567",
   "metadata": {},
   "outputs": [],
   "source": []
  }
 ],
 "metadata": {
  "kernelspec": {
   "display_name": "Python 3 (ipykernel)",
   "language": "python",
   "name": "python3"
  },
  "language_info": {
   "codemirror_mode": {
    "name": "ipython",
    "version": 3
   },
   "file_extension": ".py",
   "mimetype": "text/x-python",
   "name": "python",
   "nbconvert_exporter": "python",
   "pygments_lexer": "ipython3",
   "version": "3.11.5"
  }
 },
 "nbformat": 4,
 "nbformat_minor": 5
}
