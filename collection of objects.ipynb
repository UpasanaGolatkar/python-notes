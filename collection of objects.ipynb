{
 "cells": [
  {
   "cell_type": "code",
   "execution_count": 11,
   "id": "cd59edb6",
   "metadata": {},
   "outputs": [
    {
     "name": "stdout",
     "output_type": "stream",
     "text": [
      "upa 28\n",
      "dul 28\n",
      "ush 9\n"
     ]
    }
   ],
   "source": [
    "class customer:\n",
    "    \n",
    "    def __init__(self,name,age):\n",
    "        self.name = name\n",
    "        self.age = age\n",
    "        \n",
    "c1 = customer(\"upa\",28)\n",
    "c2 = customer(\"dul\",28)\n",
    "c3 = customer(\"ush\",9)\n",
    "\n",
    "l = [c1,c2,c3]\n",
    "\n",
    "for i in l:\n",
    "    print(i.name,i.age)"
   ]
  },
  {
   "cell_type": "code",
   "execution_count": 12,
   "id": "651603d3",
   "metadata": {},
   "outputs": [],
   "source": [
    "### in loops, object ko merge kar sakte hai"
   ]
  },
  {
   "cell_type": "code",
   "execution_count": 13,
   "id": "cfc7555e",
   "metadata": {},
   "outputs": [
    {
     "name": "stdout",
     "output_type": "stream",
     "text": [
      "I am upa and my age is 28\n",
      "I am dul and my age is 28\n",
      "I am ush and my age is 9\n"
     ]
    }
   ],
   "source": [
    "class customer:\n",
    "    \n",
    "    def __init__(self,name,age):\n",
    "        self.name = name\n",
    "        self.age = age\n",
    "        \n",
    "        \n",
    "    def intro(self):\n",
    "        print(\"I am\",self.name, \"and my age is\",self.age)\n",
    "    \n",
    "    \n",
    "c1 = customer(\"upa\",28)\n",
    "c2 = customer(\"dul\",28)\n",
    "c3 = customer(\"ush\",9)\n",
    "\n",
    "l = [c1,c2,c3]\n",
    "\n",
    "for i in l:\n",
    "    i.intro()"
   ]
  },
  {
   "cell_type": "code",
   "execution_count": null,
   "id": "61cc441c",
   "metadata": {},
   "outputs": [],
   "source": []
  },
  {
   "cell_type": "code",
   "execution_count": null,
   "id": "2e438d33",
   "metadata": {},
   "outputs": [],
   "source": []
  }
 ],
 "metadata": {
  "kernelspec": {
   "display_name": "Python 3 (ipykernel)",
   "language": "python",
   "name": "python3"
  },
  "language_info": {
   "codemirror_mode": {
    "name": "ipython",
    "version": 3
   },
   "file_extension": ".py",
   "mimetype": "text/x-python",
   "name": "python",
   "nbconvert_exporter": "python",
   "pygments_lexer": "ipython3",
   "version": "3.11.5"
  }
 },
 "nbformat": 4,
 "nbformat_minor": 5
}
