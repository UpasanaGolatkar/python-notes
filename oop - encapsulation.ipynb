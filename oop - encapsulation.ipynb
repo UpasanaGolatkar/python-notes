{
 "cells": [
  {
   "cell_type": "code",
   "execution_count": 8,
   "id": "2242a5cb",
   "metadata": {},
   "outputs": [],
   "source": [
    "### encapsulation learning\n",
    "\n",
    "# data member should be kept private by using __ (from breach)\n",
    "\n",
    "# to access data member - getter and setter function  (if teammember needs it)\n",
    "\n",
    "# setter function can be protected with our loic\n",
    "\n",
    "\n",
    "\n",
    "\n",
    "class Atm:\n",
    "    \n",
    "    def __init__(self):\n",
    "        \n",
    "    \n",
    "        self.__pin = \"\"                  ### instance variable\n",
    "        self.__balance = 0\n",
    "        \n",
    "\n",
    "        self.__menu()\n",
    "        \n",
    "        \n",
    "    \n",
    "    def get_pin(self):\n",
    "        return self.__pin\n",
    "    \n",
    "    \n",
    "    def set_pin(self,new_pin):\n",
    "        if type(new_pin) == str:                ## method protected by breach\n",
    "            self.__pin = new_pin\n",
    "            print(\"Pin changed\")\n",
    "        else:\n",
    "            print(\"Not allowed\")\n",
    "        \n",
    "    def __menu(self):\n",
    "        \n",
    "        user_input = input(\"\"\"\n",
    "                     Hello, how will you like to proceed?\n",
    "                     1. Enter 1 to create pin\n",
    "                     2. Enter 2 to deposit cash\n",
    "                     3. Enter 3 to withdraw\n",
    "                     4. Enter 4 to check balance\n",
    "                     5. Enter 5 to exit\n",
    "             \"\"\")\n",
    "        \n",
    "        \n",
    "        if user_input == \"1\":\n",
    "            self.create_pin()\n",
    "        elif user_input == \"2\":\n",
    "            self.deposit()\n",
    "        elif user_input == \"3\":\n",
    "            self.withdraw()\n",
    "        elif user_input == \"4\":\n",
    "            self.account_balance()\n",
    "        else:\n",
    "            print(\"Thankyou\")\n",
    "            \n",
    "    \n",
    "    def create_pin(self):\n",
    "        self.__pin = input(\"Enter your pin\")\n",
    "        print (\"Pin set successfully\")\n",
    "        \n",
    "    def deposit(self):\n",
    "        temp = input('Enter your pin')\n",
    "        if temp == self.__pin:\n",
    "            amount = int(input('Enter the amount'))\n",
    "            self.__balance = self.__balance + amount\n",
    "            print(\"cash deposited successfully\")\n",
    "        else:\n",
    "            print('invalid pin')\n",
    "            \n",
    "    def withdraw(self):\n",
    "        temp = input('Enter your pin')\n",
    "        if temp == self.__pin:\n",
    "            amount = int(input('Enter the amount'))\n",
    "            if amount < self.__balance:\n",
    "                self.__balance = self.__balance- amount\n",
    "                print(\"transaction completed\")\n",
    "            else:\n",
    "                print('funds insufficient')\n",
    "        else:\n",
    "            print('invalid pin')\n",
    "            \n",
    "    def account_balance(self):\n",
    "        temp = input('Enter your pin')\n",
    "        if temp == self.__pin:\n",
    "            print(self.__balance)\n",
    "        else:\n",
    "            print('invalid pin')\n",
    "         "
   ]
  },
  {
   "cell_type": "code",
   "execution_count": 2,
   "id": "d1485b68",
   "metadata": {},
   "outputs": [
    {
     "name": "stdout",
     "output_type": "stream",
     "text": [
      "\n",
      "                     Hello, how will you like to proceed?\n",
      "                     1. Enter 1 to create pin\n",
      "                     2. Enter 2 to deposit cash\n",
      "                     3. Enter 3 to withdraw\n",
      "                     4. Enter 4 to check balance\n",
      "                     5. Enter 5 to exit\n",
      "             1\n",
      "Enter your pin1234\n",
      "Pin set successfully\n"
     ]
    }
   ],
   "source": [
    "sbi = Atm()"
   ]
  },
  {
   "cell_type": "code",
   "execution_count": 3,
   "id": "e3215dcc",
   "metadata": {},
   "outputs": [
    {
     "data": {
      "text/plain": [
       "'1234'"
      ]
     },
     "execution_count": 3,
     "metadata": {},
     "output_type": "execute_result"
    }
   ],
   "source": [
    "sbi.get_pin()"
   ]
  },
  {
   "cell_type": "code",
   "execution_count": 7,
   "id": "56f2adef",
   "metadata": {},
   "outputs": [
    {
     "name": "stdout",
     "output_type": "stream",
     "text": [
      "Pin changed\n"
     ]
    }
   ],
   "source": [
    "sbi.set_pin(\"rty\")"
   ]
  },
  {
   "cell_type": "code",
   "execution_count": 9,
   "id": "b085d991",
   "metadata": {},
   "outputs": [
    {
     "name": "stdout",
     "output_type": "stream",
     "text": [
      "Pin changed\n"
     ]
    }
   ],
   "source": [
    "sbi.set_pin(5.6)"
   ]
  },
  {
   "cell_type": "code",
   "execution_count": 10,
   "id": "5327356d",
   "metadata": {},
   "outputs": [
    {
     "name": "stdout",
     "output_type": "stream",
     "text": [
      "\n",
      "                     Hello, how will you like to proceed?\n",
      "                     1. Enter 1 to create pin\n",
      "                     2. Enter 2 to deposit cash\n",
      "                     3. Enter 3 to withdraw\n",
      "                     4. Enter 4 to check balance\n",
      "                     5. Enter 5 to exit\n",
      "             1\n",
      "Enter your pin1234\n",
      "Pin set successfully\n"
     ]
    }
   ],
   "source": [
    "sbi = Atm()"
   ]
  },
  {
   "cell_type": "code",
   "execution_count": 11,
   "id": "0327e501",
   "metadata": {},
   "outputs": [
    {
     "name": "stdout",
     "output_type": "stream",
     "text": [
      "Not allowed\n"
     ]
    }
   ],
   "source": [
    "sbi.set_pin(23)"
   ]
  },
  {
   "cell_type": "code",
   "execution_count": 12,
   "id": "d11598e8",
   "metadata": {},
   "outputs": [
    {
     "name": "stdout",
     "output_type": "stream",
     "text": [
      "Pin changed\n"
     ]
    }
   ],
   "source": [
    "sbi.set_pin(\"12\")"
   ]
  },
  {
   "cell_type": "code",
   "execution_count": null,
   "id": "01b54254",
   "metadata": {},
   "outputs": [],
   "source": [
    "Atm()"
   ]
  },
  {
   "cell_type": "code",
   "execution_count": null,
   "id": "156814c6",
   "metadata": {},
   "outputs": [],
   "source": []
  }
 ],
 "metadata": {
  "kernelspec": {
   "display_name": "Python 3 (ipykernel)",
   "language": "python",
   "name": "python3"
  },
  "language_info": {
   "codemirror_mode": {
    "name": "ipython",
    "version": 3
   },
   "file_extension": ".py",
   "mimetype": "text/x-python",
   "name": "python",
   "nbconvert_exporter": "python",
   "pygments_lexer": "ipython3",
   "version": "3.11.5"
  }
 },
 "nbformat": 4,
 "nbformat_minor": 5
}
