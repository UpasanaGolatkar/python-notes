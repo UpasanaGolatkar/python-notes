{
 "cells": [
  {
   "cell_type": "code",
   "execution_count": 13,
   "id": "552df943",
   "metadata": {},
   "outputs": [
    {
     "name": "stdout",
     "output_type": "stream",
     "text": [
      "first python program\n"
     ]
    }
   ],
   "source": [
    "print(\"first python program\")"
   ]
  },
  {
   "cell_type": "code",
   "execution_count": 3,
   "id": "a6688ee7",
   "metadata": {},
   "outputs": [
    {
     "name": "stdout",
     "output_type": "stream",
     "text": [
      "5\n"
     ]
    }
   ],
   "source": [
    "print (\"5\")"
   ]
  },
  {
   "cell_type": "code",
   "execution_count": 4,
   "id": "c766f005",
   "metadata": {},
   "outputs": [
    {
     "name": "stdout",
     "output_type": "stream",
     "text": [
      "upa dul piddhi\n"
     ]
    }
   ],
   "source": [
    "print (\"upa\", \"dul\", \"piddhi\")"
   ]
  },
  {
   "cell_type": "code",
   "execution_count": 5,
   "id": "6fe6988d",
   "metadata": {},
   "outputs": [
    {
     "name": "stdout",
     "output_type": "stream",
     "text": [
      "upa/dul/piddhi\n"
     ]
    }
   ],
   "source": [
    "print (\"upa\", \"dul\", \"piddhi\",sep = \"/\")"
   ]
  },
  {
   "cell_type": "code",
   "execution_count": 6,
   "id": "abc43761",
   "metadata": {},
   "outputs": [
    {
     "name": "stdout",
     "output_type": "stream",
     "text": [
      "upa-dul-piddhi\n"
     ]
    }
   ],
   "source": [
    "print (\"upa\", \"dul\", \"piddhi\",sep = \"-\")"
   ]
  },
  {
   "cell_type": "code",
   "execution_count": 12,
   "id": "c487ab66",
   "metadata": {},
   "outputs": [
    {
     "name": "stdout",
     "output_type": "stream",
     "text": [
      "hello world\n"
     ]
    }
   ],
   "source": [
    "print (\"hello\",end=' ')\n",
    "print('world')"
   ]
  },
  {
   "cell_type": "code",
   "execution_count": 14,
   "id": "999ea819",
   "metadata": {},
   "outputs": [
    {
     "name": "stdout",
     "output_type": "stream",
     "text": [
      "588889076447\n"
     ]
    }
   ],
   "source": [
    "print (\"588889076447\")"
   ]
  },
  {
   "cell_type": "code",
   "execution_count": 17,
   "id": "4f175fe7",
   "metadata": {},
   "outputs": [
    {
     "name": "stdout",
     "output_type": "stream",
     "text": [
      "True\n"
     ]
    }
   ],
   "source": [
    "print(True)"
   ]
  },
  {
   "cell_type": "code",
   "execution_count": 19,
   "id": "14687748",
   "metadata": {},
   "outputs": [
    {
     "name": "stdout",
     "output_type": "stream",
     "text": [
      "true\n"
     ]
    }
   ],
   "source": [
    "print(\"true\")"
   ]
  },
  {
   "cell_type": "code",
   "execution_count": 31,
   "id": "e975f8a0",
   "metadata": {},
   "outputs": [
    {
     "name": "stdout",
     "output_type": "stream",
     "text": [
      "[1, 2, 2, 3, 6, 7, 0]\n"
     ]
    }
   ],
   "source": [
    "#list square []\n",
    "print ([1,2,2,3,6,7,0])"
   ]
  },
  {
   "cell_type": "code",
   "execution_count": 42,
   "id": "805d09e1",
   "metadata": {},
   "outputs": [
    {
     "name": "stdout",
     "output_type": "stream",
     "text": [
      "(1, 1, 'upa', 34)\n"
     ]
    }
   ],
   "source": [
    "#tuple ()\n",
    "print ((1,1,\"upa\", 34))"
   ]
  },
  {
   "cell_type": "code",
   "execution_count": 41,
   "id": "8a90b3a6",
   "metadata": {},
   "outputs": [
    {
     "name": "stdout",
     "output_type": "stream",
     "text": [
      "{'name': 'upa', 'age': 28, 'city': 'nyc'}\n",
      "{1, 5, 6, 1213}\n"
     ]
    }
   ],
   "source": [
    "#dict key value pairs\n",
    "print ({'name' :'upa', 'age': 28, 'city': 'nyc'})\n",
    "print ({ 1213,5,6,6,5,6,6,6,1})"
   ]
  },
  {
   "cell_type": "code",
   "execution_count": 35,
   "id": "e778adb3",
   "metadata": {},
   "outputs": [
    {
     "name": "stdout",
     "output_type": "stream",
     "text": [
      "{1, 2, 'upa', 12}\n"
     ]
    }
   ],
   "source": [
    "#sets {}\n",
    "print ({ 12,2,2,2,\"upa\",1})"
   ]
  },
  {
   "cell_type": "code",
   "execution_count": null,
   "id": "97b872b5",
   "metadata": {},
   "outputs": [],
   "source": [
    "# comment\n",
    "#to enhance code readability"
   ]
  },
  {
   "cell_type": "code",
   "execution_count": null,
   "id": "f2fb144b",
   "metadata": {},
   "outputs": [],
   "source": [
    "#\n",
    "#upa\n",
    "dul\n",
    "piddhi\n",
    "didi###"
   ]
  },
  {
   "cell_type": "code",
   "execution_count": null,
   "id": "d0ffa02b",
   "metadata": {},
   "outputs": [],
   "source": [
    "# variables are containers for future use"
   ]
  }
 ],
 "metadata": {
  "kernelspec": {
   "display_name": "Python 3 (ipykernel)",
   "language": "python",
   "name": "python3"
  },
  "language_info": {
   "codemirror_mode": {
    "name": "ipython",
    "version": 3
   },
   "file_extension": ".py",
   "mimetype": "text/x-python",
   "name": "python",
   "nbconvert_exporter": "python",
   "pygments_lexer": "ipython3",
   "version": "3.11.5"
  }
 },
 "nbformat": 4,
 "nbformat_minor": 5
}
