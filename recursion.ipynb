{
 "cells": [
  {
   "cell_type": "code",
   "execution_count": 15,
   "id": "e9d91423",
   "metadata": {},
   "outputs": [
    {
     "name": "stdout",
     "output_type": "stream",
     "text": [
      "12\n"
     ]
    }
   ],
   "source": [
    "### multplication in loop\n",
    "\n",
    "\n",
    "def multiply(a,b):\n",
    "    \n",
    "    result = 0\n",
    "    \n",
    "    for i in range (b):\n",
    "        result = result + a\n",
    "        \n",
    "    print (result)\n",
    "    \n",
    "multiply (3,4)"
   ]
  },
  {
   "cell_type": "code",
   "execution_count": 16,
   "id": "3f1f2612",
   "metadata": {},
   "outputs": [
    {
     "data": {
      "text/plain": [
       "12"
      ]
     },
     "execution_count": 16,
     "metadata": {},
     "output_type": "execute_result"
    }
   ],
   "source": [
    "3*4"
   ]
  },
  {
   "cell_type": "code",
   "execution_count": 17,
   "id": "c58b6c12",
   "metadata": {},
   "outputs": [
    {
     "name": "stdout",
     "output_type": "stream",
     "text": [
      "12\n"
     ]
    }
   ],
   "source": [
    "# multiply in recursion\n",
    "\n",
    "\n",
    "def mul (a,b):\n",
    "    \n",
    "    if b == 1:\n",
    "            return a\n",
    "    else:\n",
    "        return a + mul (a, b-1)\n",
    "\n",
    "print (mul (3,4))"
   ]
  },
  {
   "cell_type": "code",
   "execution_count": 24,
   "id": "e4783152",
   "metadata": {},
   "outputs": [
    {
     "name": "stdout",
     "output_type": "stream",
     "text": [
      "120\n"
     ]
    }
   ],
   "source": [
    "def fact (number):\n",
    "    \n",
    "    if number == 1:\n",
    "        return 1\n",
    "    \n",
    "    else:\n",
    "        return number * fact (number - 1)\n",
    "    \n",
    "print (fact(5))"
   ]
  },
  {
   "cell_type": "code",
   "execution_count": 27,
   "id": "04b11d36",
   "metadata": {},
   "outputs": [
    {
     "name": "stdout",
     "output_type": "stream",
     "text": [
      "palindrome\n",
      "not palindrome\n"
     ]
    }
   ],
   "source": [
    "#### palindrome \n",
    "\n",
    "\n",
    "def palin(text):\n",
    "    \n",
    "    if len(text) == 1:\n",
    "        print ('palindrome')\n",
    "        \n",
    "    else:\n",
    "        if text [0] == text [-1]:\n",
    "            palin(text[1:-1])\n",
    "        else:\n",
    "            print ('not palindrome')\n",
    "        \n",
    "        \n",
    "palin('madam')\n",
    "palin('upamau')\n",
    "            "
   ]
  },
  {
   "cell_type": "code",
   "execution_count": 29,
   "id": "d7755729",
   "metadata": {},
   "outputs": [
    {
     "name": "stdout",
     "output_type": "stream",
     "text": [
      "palindrome\n"
     ]
    }
   ],
   "source": [
    "###   considering o charaer left \n",
    "\n",
    "def palin(text):\n",
    "    \n",
    "    if len(text) <= 1:               ### less than sign\n",
    "        print ('palindrome')\n",
    "        \n",
    "    else:\n",
    "        if text [0] == text [-1]:\n",
    "            palin(text[1:-1])\n",
    "        else:\n",
    "            print ('not palindrome')\n",
    "        \n",
    "        \n",
    "palin('abba')"
   ]
  },
  {
   "cell_type": "code",
   "execution_count": 38,
   "id": "e14ac1e5",
   "metadata": {},
   "outputs": [],
   "source": [
    "### fibonacci \n",
    "\n",
    "\n",
    "def fib(month):\n",
    "    if month == 0 or month == 1:\n",
    "        return 1\n",
    "    else:\n",
    "        return fib(month-1) + fib (month -2)\n",
    "        "
   ]
  },
  {
   "cell_type": "code",
   "execution_count": 45,
   "id": "82eaea84",
   "metadata": {},
   "outputs": [
    {
     "data": {
      "text/plain": [
       "233"
      ]
     },
     "execution_count": 45,
     "metadata": {},
     "output_type": "execute_result"
    }
   ],
   "source": [
    "fib (12)"
   ]
  },
  {
   "cell_type": "code",
   "execution_count": null,
   "id": "944105ba",
   "metadata": {},
   "outputs": [],
   "source": [
    "### memoization - dynamic programming\n",
    "\n",
    "## to slove problem in less time as fibonacci takes time"
   ]
  },
  {
   "cell_type": "code",
   "execution_count": 44,
   "id": "7d3a7a02",
   "metadata": {},
   "outputs": [
    {
     "name": "stdout",
     "output_type": "stream",
     "text": [
      "7778742049\n"
     ]
    }
   ],
   "source": [
    "def memo(m,d):\n",
    "    \n",
    "    if m in d:\n",
    "        return d[m]\n",
    "    else:\n",
    "        d [m] = memo(m-1,d)+ memo(m-2,d)\n",
    "        return d[m]\n",
    "\n",
    "d= {0:1,1:1}\n",
    "\n",
    "print (memo(48,d))"
   ]
  },
  {
   "cell_type": "code",
   "execution_count": 49,
   "id": "b29213b3",
   "metadata": {},
   "outputs": [
    {
     "data": {
      "text/plain": [
       "11"
      ]
     },
     "execution_count": 49,
     "metadata": {},
     "output_type": "execute_result"
    }
   ],
   "source": [
    "def fib (n):\n",
    "    n = 7\n",
    "(n-1)+ (n-2)"
   ]
  },
  {
   "cell_type": "code",
   "execution_count": null,
   "id": "993edd62",
   "metadata": {},
   "outputs": [],
   "source": []
  }
 ],
 "metadata": {
  "kernelspec": {
   "display_name": "Python 3 (ipykernel)",
   "language": "python",
   "name": "python3"
  },
  "language_info": {
   "codemirror_mode": {
    "name": "ipython",
    "version": 3
   },
   "file_extension": ".py",
   "mimetype": "text/x-python",
   "name": "python",
   "nbconvert_exporter": "python",
   "pygments_lexer": "ipython3",
   "version": "3.11.5"
  }
 },
 "nbformat": 4,
 "nbformat_minor": 5
}
