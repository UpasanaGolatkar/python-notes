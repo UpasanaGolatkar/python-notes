{
 "cells": [
  {
   "cell_type": "code",
   "execution_count": 1,
   "id": "511aec3f",
   "metadata": {},
   "outputs": [],
   "source": [
    "a=\"upasana shardul\"\n",
    "b = a\n",
    "c = b"
   ]
  },
  {
   "cell_type": "code",
   "execution_count": 2,
   "id": "9c748718",
   "metadata": {},
   "outputs": [],
   "source": [
    "import sys"
   ]
  },
  {
   "cell_type": "code",
   "execution_count": 3,
   "id": "d3b71eed",
   "metadata": {},
   "outputs": [
    {
     "data": {
      "text/plain": [
       "4"
      ]
     },
     "execution_count": 3,
     "metadata": {},
     "output_type": "execute_result"
    }
   ],
   "source": [
    "sys.getrefcount(a)"
   ]
  },
  {
   "cell_type": "code",
   "execution_count": 5,
   "id": "4d5cc37f",
   "metadata": {},
   "outputs": [
    {
     "data": {
      "text/plain": [
       "1000001426"
      ]
     },
     "execution_count": 5,
     "metadata": {},
     "output_type": "execute_result"
    }
   ],
   "source": [
    "a= 2\n",
    "b =a\n",
    "c = b\n",
    "\n",
    "sys.getrefcount(a)"
   ]
  },
  {
   "cell_type": "code",
   "execution_count": 6,
   "id": "22d0823d",
   "metadata": {},
   "outputs": [
    {
     "data": {
      "text/plain": [
       "140713173619528"
      ]
     },
     "execution_count": 6,
     "metadata": {},
     "output_type": "execute_result"
    }
   ],
   "source": [
    "a= 2\n",
    "b= 2\n",
    "id(a)"
   ]
  },
  {
   "cell_type": "code",
   "execution_count": 7,
   "id": "a0175656",
   "metadata": {},
   "outputs": [
    {
     "data": {
      "text/plain": [
       "140713173619528"
      ]
     },
     "execution_count": 7,
     "metadata": {},
     "output_type": "execute_result"
    }
   ],
   "source": [
    "id(b)"
   ]
  },
  {
   "cell_type": "code",
   "execution_count": 10,
   "id": "640631e1",
   "metadata": {},
   "outputs": [
    {
     "data": {
      "text/plain": [
       "140713173619560"
      ]
     },
     "execution_count": 10,
     "metadata": {},
     "output_type": "execute_result"
    }
   ],
   "source": [
    "a= 3\n",
    "b=3\n",
    "id(a)"
   ]
  },
  {
   "cell_type": "code",
   "execution_count": 11,
   "id": "4bb85c33",
   "metadata": {},
   "outputs": [
    {
     "data": {
      "text/plain": [
       "140713173619560"
      ]
     },
     "execution_count": 11,
     "metadata": {},
     "output_type": "execute_result"
    }
   ],
   "source": [
    "id(b)"
   ]
  },
  {
   "cell_type": "code",
   "execution_count": 12,
   "id": "d471b4ad",
   "metadata": {},
   "outputs": [],
   "source": [
    "a= 4\n",
    "b= 4"
   ]
  },
  {
   "cell_type": "code",
   "execution_count": 13,
   "id": "a0a9e4a6",
   "metadata": {},
   "outputs": [
    {
     "data": {
      "text/plain": [
       "140713173619592"
      ]
     },
     "execution_count": 13,
     "metadata": {},
     "output_type": "execute_result"
    }
   ],
   "source": [
    "id(a)"
   ]
  },
  {
   "cell_type": "code",
   "execution_count": 14,
   "id": "196481c9",
   "metadata": {},
   "outputs": [
    {
     "data": {
      "text/plain": [
       "140713173619592"
      ]
     },
     "execution_count": 14,
     "metadata": {},
     "output_type": "execute_result"
    }
   ],
   "source": [
    "id(b)"
   ]
  },
  {
   "cell_type": "code",
   "execution_count": 15,
   "id": "23ef64a6",
   "metadata": {},
   "outputs": [
    {
     "data": {
      "text/plain": [
       "2110404213872"
      ]
     },
     "execution_count": 15,
     "metadata": {},
     "output_type": "execute_result"
    }
   ],
   "source": [
    "a= \"upasana\"\n",
    "b= \"upasana\"\n",
    "\n",
    "id(a)"
   ]
  },
  {
   "cell_type": "code",
   "execution_count": 16,
   "id": "ecf84063",
   "metadata": {},
   "outputs": [
    {
     "data": {
      "text/plain": [
       "2110404213872"
      ]
     },
     "execution_count": 16,
     "metadata": {},
     "output_type": "execute_result"
    }
   ],
   "source": [
    "id(b)"
   ]
  },
  {
   "cell_type": "code",
   "execution_count": 17,
   "id": "dc33a414",
   "metadata": {},
   "outputs": [
    {
     "data": {
      "text/plain": [
       "2110404635760"
      ]
     },
     "execution_count": 17,
     "metadata": {},
     "output_type": "execute_result"
    }
   ],
   "source": [
    "a= \"upasana int tec\"\n",
    "b = \"upasana int tec\"\n",
    "\n",
    "id(a)"
   ]
  },
  {
   "cell_type": "code",
   "execution_count": 18,
   "id": "de14c5af",
   "metadata": {},
   "outputs": [
    {
     "data": {
      "text/plain": [
       "2110404631152"
      ]
     },
     "execution_count": 18,
     "metadata": {},
     "output_type": "execute_result"
    }
   ],
   "source": [
    "id(b)"
   ]
  },
  {
   "cell_type": "code",
   "execution_count": 19,
   "id": "fbad3a3c",
   "metadata": {},
   "outputs": [
    {
     "data": {
      "text/plain": [
       "2110404733744"
      ]
     },
     "execution_count": 19,
     "metadata": {},
     "output_type": "execute_result"
    }
   ],
   "source": [
    "a= \"upasana_int_tec\"\n",
    "b = \"upasana_int_tec\"\n",
    "\n",
    "id(a)"
   ]
  },
  {
   "cell_type": "code",
   "execution_count": 20,
   "id": "2369e3ce",
   "metadata": {},
   "outputs": [
    {
     "data": {
      "text/plain": [
       "2110404733744"
      ]
     },
     "execution_count": 20,
     "metadata": {},
     "output_type": "execute_result"
    }
   ],
   "source": [
    "id(b)"
   ]
  },
  {
   "cell_type": "code",
   "execution_count": null,
   "id": "d30d513f",
   "metadata": {},
   "outputs": [],
   "source": []
  }
 ],
 "metadata": {
  "kernelspec": {
   "display_name": "Python 3 (ipykernel)",
   "language": "python",
   "name": "python3"
  },
  "language_info": {
   "codemirror_mode": {
    "name": "ipython",
    "version": 3
   },
   "file_extension": ".py",
   "mimetype": "text/x-python",
   "name": "python",
   "nbconvert_exporter": "python",
   "pygments_lexer": "ipython3",
   "version": "3.11.5"
  }
 },
 "nbformat": 4,
 "nbformat_minor": 5
}
