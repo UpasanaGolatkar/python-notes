{
 "cells": [
  {
   "cell_type": "code",
   "execution_count": 2,
   "id": "f3af3884",
   "metadata": {},
   "outputs": [
    {
     "name": "stdout",
     "output_type": "stream",
     "text": [
      "Odd\n",
      "Even\n",
      "Odd\n",
      "Even\n",
      "Odd\n",
      "Even\n",
      "Odd\n",
      "Even\n",
      "Odd\n",
      "Even\n",
      "Odd\n",
      "Even\n",
      "Odd\n",
      "Even\n",
      "Odd\n",
      "Even\n",
      "Odd\n",
      "Even\n",
      "Odd\n"
     ]
    }
   ],
   "source": [
    "def  is_even(number):\n",
    "    \"\"\"\n",
    "    this function tells if a given number is odd or even\n",
    "    Input = any valid integer\n",
    "    output - odd/even\n",
    "    Created by - Upasana\n",
    "    Last edited- 12/20/2023\n",
    "    \"\"\"\n",
    "    if number %2==0:\n",
    "        return \"Even\"\n",
    "    else:\n",
    "        return \"Odd\"\n",
    "        \n",
    "for i in range(1,20):\n",
    "    print(is_even(i))"
   ]
  },
  {
   "cell_type": "code",
   "execution_count": 5,
   "id": "0db4b626",
   "metadata": {},
   "outputs": [
    {
     "name": "stdout",
     "output_type": "stream",
     "text": [
      "\n",
      "    this function tells if a given number is odd or even\n",
      "    Input = any valid integer\n",
      "    output - odd/even\n",
      "    Created by - Upasana\n",
      "    Last edited- 12/20/2023\n",
      "    \n"
     ]
    }
   ],
   "source": [
    "print(is_even.__doc__)"
   ]
  },
  {
   "cell_type": "code",
   "execution_count": 7,
   "id": "84845762",
   "metadata": {},
   "outputs": [
    {
     "ename": "TypeError",
     "evalue": "not all arguments converted during string formatting",
     "output_type": "error",
     "traceback": [
      "\u001b[1;31m---------------------------------------------------------------------------\u001b[0m",
      "\u001b[1;31mTypeError\u001b[0m                                 Traceback (most recent call last)",
      "Cell \u001b[1;32mIn[7], line 1\u001b[0m\n\u001b[1;32m----> 1\u001b[0m is_even(\u001b[38;5;124m'\u001b[39m\u001b[38;5;124mhello\u001b[39m\u001b[38;5;124m'\u001b[39m)\n",
      "Cell \u001b[1;32mIn[2], line 9\u001b[0m, in \u001b[0;36mis_even\u001b[1;34m(number)\u001b[0m\n\u001b[0;32m      1\u001b[0m \u001b[38;5;28;01mdef\u001b[39;00m  \u001b[38;5;21mis_even\u001b[39m(number):\n\u001b[0;32m      2\u001b[0m \u001b[38;5;250m    \u001b[39m\u001b[38;5;124;03m\"\"\"\u001b[39;00m\n\u001b[0;32m      3\u001b[0m \u001b[38;5;124;03m    this function tells if a given number is odd or even\u001b[39;00m\n\u001b[0;32m      4\u001b[0m \u001b[38;5;124;03m    Input = any valid integer\u001b[39;00m\n\u001b[1;32m   (...)\u001b[0m\n\u001b[0;32m      7\u001b[0m \u001b[38;5;124;03m    Last edited- 12/20/2023\u001b[39;00m\n\u001b[0;32m      8\u001b[0m \u001b[38;5;124;03m    \"\"\"\u001b[39;00m\n\u001b[1;32m----> 9\u001b[0m     \u001b[38;5;28;01mif\u001b[39;00m number \u001b[38;5;241m%\u001b[39m\u001b[38;5;241m2\u001b[39m\u001b[38;5;241m==\u001b[39m\u001b[38;5;241m0\u001b[39m:\n\u001b[0;32m     10\u001b[0m         \u001b[38;5;28;01mreturn\u001b[39;00m \u001b[38;5;124m\"\u001b[39m\u001b[38;5;124mEven\u001b[39m\u001b[38;5;124m\"\u001b[39m\n\u001b[0;32m     11\u001b[0m     \u001b[38;5;28;01melse\u001b[39;00m:\n",
      "\u001b[1;31mTypeError\u001b[0m: not all arguments converted during string formatting"
     ]
    }
   ],
   "source": [
    "is_even('hello')"
   ]
  },
  {
   "cell_type": "code",
   "execution_count": 14,
   "id": "596dba18",
   "metadata": {},
   "outputs": [],
   "source": [
    "def is_even(number):\n",
    "    if type(number)==int:\n",
    "        if number %2==0:\n",
    "            return \"Even\"\n",
    "        else:\n",
    "            return \"Odd\"\n",
    "    else:\n",
    "        return \"not allowed\""
   ]
  },
  {
   "cell_type": "code",
   "execution_count": 10,
   "id": "b93bb19a",
   "metadata": {},
   "outputs": [
    {
     "data": {
      "text/plain": [
       "'Odd'"
      ]
     },
     "execution_count": 10,
     "metadata": {},
     "output_type": "execute_result"
    }
   ],
   "source": [
    "is_even(7)"
   ]
  },
  {
   "cell_type": "code",
   "execution_count": 11,
   "id": "8d5befd6",
   "metadata": {},
   "outputs": [
    {
     "data": {
      "text/plain": [
       "'not allowed'"
      ]
     },
     "execution_count": 11,
     "metadata": {},
     "output_type": "execute_result"
    }
   ],
   "source": [
    "is_even('hello')"
   ]
  },
  {
   "cell_type": "code",
   "execution_count": 12,
   "id": "91bc5641",
   "metadata": {},
   "outputs": [
    {
     "data": {
      "text/plain": [
       "'Even'"
      ]
     },
     "execution_count": 12,
     "metadata": {},
     "output_type": "execute_result"
    }
   ],
   "source": [
    "is_even(8)"
   ]
  },
  {
   "cell_type": "code",
   "execution_count": 33,
   "id": "09cccca3",
   "metadata": {},
   "outputs": [],
   "source": [
    "def flexi(*number):\n",
    "    product = 1\n",
    "    for i in number:\n",
    "        product= product*i\n",
    "    print(product)"
   ]
  },
  {
   "cell_type": "code",
   "execution_count": 20,
   "id": "68ffb452",
   "metadata": {},
   "outputs": [
    {
     "name": "stdout",
     "output_type": "stream",
     "text": [
      "(1, 2, 3)\n",
      "6\n"
     ]
    }
   ],
   "source": [
    "flexi(1,2,3)"
   ]
  },
  {
   "cell_type": "code",
   "execution_count": 21,
   "id": "b012e7cf",
   "metadata": {},
   "outputs": [
    {
     "name": "stdout",
     "output_type": "stream",
     "text": [
      "(45, 65)\n",
      "2925\n"
     ]
    }
   ],
   "source": [
    "flexi(45,65)"
   ]
  },
  {
   "cell_type": "code",
   "execution_count": 32,
   "id": "12165eaa",
   "metadata": {},
   "outputs": [
    {
     "name": "stdout",
     "output_type": "stream",
     "text": [
      "2\n"
     ]
    }
   ],
   "source": [
    "flexi(1)"
   ]
  },
  {
   "cell_type": "code",
   "execution_count": 76,
   "id": "92ea5c34",
   "metadata": {},
   "outputs": [],
   "source": [
    "def func_a(y):\n",
    "    print('func_a')\n",
    "    return y\n",
    "\n",
    "def func_b(x):\n",
    "    print('func_b')\n",
    "    return x"
   ]
  },
  {
   "cell_type": "code",
   "execution_count": 41,
   "id": "646e4149",
   "metadata": {},
   "outputs": [
    {
     "name": "stdout",
     "output_type": "stream",
     "text": [
      "func_a\n",
      "None\n",
      "func_b\n",
      "6\n"
     ]
    }
   ],
   "source": [
    "print(func_a())\n",
    "print(4+func_b(2))"
   ]
  },
  {
   "cell_type": "code",
   "execution_count": 77,
   "id": "23b9501d",
   "metadata": {},
   "outputs": [
    {
     "name": "stdout",
     "output_type": "stream",
     "text": [
      "func_a\n",
      "func_b\n"
     ]
    },
    {
     "data": {
      "text/plain": [
       "4"
      ]
     },
     "execution_count": 77,
     "metadata": {},
     "output_type": "execute_result"
    }
   ],
   "source": [
    "func_a(3)\n",
    "func_b(4)"
   ]
  },
  {
   "cell_type": "code",
   "execution_count": 56,
   "id": "eb83a3a8",
   "metadata": {},
   "outputs": [
    {
     "name": "stdout",
     "output_type": "stream",
     "text": [
      "func_a\n"
     ]
    },
    {
     "data": {
      "text/plain": [
       "8"
      ]
     },
     "execution_count": 56,
     "metadata": {},
     "output_type": "execute_result"
    }
   ],
   "source": [
    "4*func_a(2)"
   ]
  },
  {
   "cell_type": "code",
   "execution_count": 55,
   "id": "7b82eab8",
   "metadata": {},
   "outputs": [
    {
     "name": "stdout",
     "output_type": "stream",
     "text": [
      "func_b\n"
     ]
    },
    {
     "data": {
      "text/plain": [
       "6"
      ]
     },
     "execution_count": 55,
     "metadata": {},
     "output_type": "execute_result"
    }
   ],
   "source": [
    "4+func_b(2)"
   ]
  },
  {
   "cell_type": "code",
   "execution_count": 67,
   "id": "052a2870",
   "metadata": {},
   "outputs": [],
   "source": [
    "def s(y):\n",
    "    x=1\n",
    "    x += 1\n",
    "    print(x)\n",
    "    \n",
    "x = 6\n",
    "s(x)\n",
    "print(x)"
   ]
  },
  {
   "cell_type": "code",
   "execution_count": 68,
   "id": "2e404541",
   "metadata": {},
   "outputs": [
    {
     "name": "stdout",
     "output_type": "stream",
     "text": [
      "2\n",
      "6\n"
     ]
    }
   ],
   "source": [
    "x = 6\n",
    "s(x)\n",
    "print(x)"
   ]
  },
  {
   "cell_type": "code",
   "execution_count": 69,
   "id": "76766dba",
   "metadata": {},
   "outputs": [],
   "source": [
    "def g(y):\n",
    "    print(x)\n",
    "    print(x+1)"
   ]
  },
  {
   "cell_type": "code",
   "execution_count": 70,
   "id": "b9b0d724",
   "metadata": {},
   "outputs": [
    {
     "name": "stdout",
     "output_type": "stream",
     "text": [
      "5\n",
      "6\n",
      "5\n"
     ]
    }
   ],
   "source": [
    "x = 5\n",
    "g(x)\n",
    "print(x)"
   ]
  },
  {
   "cell_type": "code",
   "execution_count": 81,
   "id": "1003cabb",
   "metadata": {},
   "outputs": [],
   "source": [
    "def h(y):\n",
    "    global x\n",
    "    x += 1"
   ]
  },
  {
   "cell_type": "code",
   "execution_count": 82,
   "id": "fdc28338",
   "metadata": {},
   "outputs": [
    {
     "name": "stdout",
     "output_type": "stream",
     "text": [
      "5\n"
     ]
    }
   ],
   "source": [
    "x = 4\n",
    "h(x)\n",
    "print(x)"
   ]
  },
  {
   "cell_type": "code",
   "execution_count": 11,
   "id": "3f65c11b",
   "metadata": {},
   "outputs": [],
   "source": [
    "def c(x):\n",
    "    x = x + 1\n",
    "    print (\"in c(x): x = \", x)\n",
    "    return x\n"
   ]
  },
  {
   "cell_type": "code",
   "execution_count": 12,
   "id": "632da721",
   "metadata": {},
   "outputs": [
    {
     "name": "stdout",
     "output_type": "stream",
     "text": [
      "in c(x): x =  4\n",
      "in main program : y = 4\n",
      "in main program : x =  3\n"
     ]
    }
   ],
   "source": [
    "x = 3\n",
    "y = c (x)\n",
    "print( 'in main program : y =', y)\n",
    "print ('in main program : x = ', x)"
   ]
  },
  {
   "cell_type": "code",
   "execution_count": 14,
   "id": "3b16fd39",
   "metadata": {},
   "outputs": [
    {
     "name": "stdout",
     "output_type": "stream",
     "text": [
      " in l (x) : x =  6\n"
     ]
    }
   ],
   "source": [
    "# nested function\n",
    "\n",
    "def l(x):\n",
    "    def n():\n",
    "        x = 'abc'\n",
    "    x = x + 1\n",
    "    print (' in l (x) : x = ', x)\n",
    "    n ()\n",
    "\n",
    "x = 5\n",
    "z = l(x)"
   ]
  },
  {
   "cell_type": "code",
   "execution_count": 22,
   "id": "7d83c890",
   "metadata": {},
   "outputs": [
    {
     "name": "stdout",
     "output_type": "stream",
     "text": [
      " in l (x) : x =  6\n"
     ]
    }
   ],
   "source": [
    "def l(x):\n",
    "    def n():\n",
    "        x = 'abc'\n",
    "        return x\n",
    "    x = x + 1\n",
    "    print (' in l (x) : x = ', x)\n",
    "    n ()\n",
    "\n",
    "x = 5\n",
    "z = l(x)"
   ]
  },
  {
   "cell_type": "code",
   "execution_count": null,
   "id": "d4fd5dec",
   "metadata": {},
   "outputs": [],
   "source": []
  },
  {
   "cell_type": "code",
   "execution_count": null,
   "id": "ed682ab5",
   "metadata": {},
   "outputs": [],
   "source": []
  }
 ],
 "metadata": {
  "kernelspec": {
   "display_name": "Python 3 (ipykernel)",
   "language": "python",
   "name": "python3"
  },
  "language_info": {
   "codemirror_mode": {
    "name": "ipython",
    "version": 3
   },
   "file_extension": ".py",
   "mimetype": "text/x-python",
   "name": "python",
   "nbconvert_exporter": "python",
   "pygments_lexer": "ipython3",
   "version": "3.11.5"
  }
 },
 "nbformat": 4,
 "nbformat_minor": 5
}
