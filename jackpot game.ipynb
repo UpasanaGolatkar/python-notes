{
 "cells": [
  {
   "cell_type": "code",
   "execution_count": 3,
   "id": "a295fa54",
   "metadata": {},
   "outputs": [],
   "source": [
    "import random"
   ]
  },
  {
   "cell_type": "code",
   "execution_count": 4,
   "id": "c6ce7fbe",
   "metadata": {},
   "outputs": [
    {
     "data": {
      "text/plain": [
       "27"
      ]
     },
     "execution_count": 4,
     "metadata": {},
     "output_type": "execute_result"
    }
   ],
   "source": [
    "random.randint (1, 100)"
   ]
  },
  {
   "cell_type": "code",
   "execution_count": 6,
   "id": "fcc34e04",
   "metadata": {},
   "outputs": [
    {
     "name": "stdout",
     "output_type": "stream",
     "text": [
      "guess your number55\n",
      "Guess lower\n",
      "Enter your guess again40\n",
      "Guess lower\n",
      "Enter your guess again30\n",
      "Guess lower\n",
      "Enter your guess again20\n",
      "Guess lower\n",
      "Enter your guess again10\n",
      "Guess lower\n",
      "Enter your guess again5\n",
      "Guess lower\n",
      "Enter your guess again2\n",
      "You won the jackpot\n",
      "Your attempts are 7\n"
     ]
    }
   ],
   "source": [
    "jackpot = random.randint(1,100)\n",
    "\n",
    "guess = int(input(\"guess your number\"))\n",
    "counter = 1\n",
    "\n",
    "while guess != jackpot:\n",
    "    if guess < jackpot:\n",
    "        print ('Guess higher')\n",
    "    else:\n",
    "        print ('Guess lower')\n",
    "        \n",
    "    guess = int (input ('Enter your guess again'))\n",
    "    counter += 1\n",
    "    \n",
    "print ('You won the jackpot')\n",
    "print ('Your attempts are', counter)"
   ]
  },
  {
   "cell_type": "code",
   "execution_count": null,
   "id": "5d7a01e8",
   "metadata": {},
   "outputs": [],
   "source": []
  }
 ],
 "metadata": {
  "kernelspec": {
   "display_name": "Python 3 (ipykernel)",
   "language": "python",
   "name": "python3"
  },
  "language_info": {
   "codemirror_mode": {
    "name": "ipython",
    "version": 3
   },
   "file_extension": ".py",
   "mimetype": "text/x-python",
   "name": "python",
   "nbconvert_exporter": "python",
   "pygments_lexer": "ipython3",
   "version": "3.11.5"
  }
 },
 "nbformat": 4,
 "nbformat_minor": 5
}
