{
 "cells": [
  {
   "cell_type": "code",
   "execution_count": 1,
   "id": "9d4a07d4",
   "metadata": {},
   "outputs": [],
   "source": [
    "# strings are sequence of characers"
   ]
  },
  {
   "cell_type": "code",
   "execution_count": 2,
   "id": "8e8c2ce3",
   "metadata": {},
   "outputs": [],
   "source": [
    "# in python- str are sequence of unicode charaters"
   ]
  },
  {
   "cell_type": "code",
   "execution_count": 3,
   "id": "f3974d98",
   "metadata": {},
   "outputs": [
    {
     "name": "stdout",
     "output_type": "stream",
     "text": [
      "upasana\n"
     ]
    }
   ],
   "source": [
    "# creating str\n",
    "\n",
    "# single ''\n",
    "\n",
    "name = 'upasana'\n",
    "print (name)"
   ]
  },
  {
   "cell_type": "code",
   "execution_count": 7,
   "id": "ca377320",
   "metadata": {},
   "outputs": [
    {
     "name": "stdout",
     "output_type": "stream",
     "text": [
      " upasana\n"
     ]
    }
   ],
   "source": [
    "# double \"\"\n",
    "\n",
    "name = \" upasana\"\n",
    "\n",
    "print (name)"
   ]
  },
  {
   "cell_type": "code",
   "execution_count": 6,
   "id": "101c3027",
   "metadata": {},
   "outputs": [
    {
     "name": "stdout",
     "output_type": "stream",
     "text": [
      "upasana\n"
     ]
    }
   ],
   "source": [
    "#triple ''''''   \"\"\"\"\"\"  for multi line str - blog\n",
    "\n",
    "name = '''upasana'''\n",
    "print (name)"
   ]
  },
  {
   "cell_type": "code",
   "execution_count": 10,
   "id": "86f52488",
   "metadata": {},
   "outputs": [
    {
     "data": {
      "text/plain": [
       "'upasana'"
      ]
     },
     "execution_count": 10,
     "metadata": {},
     "output_type": "execute_result"
    }
   ],
   "source": [
    "# type\n",
    "\n",
    "name = str(\"upasana\")\n",
    "name"
   ]
  },
  {
   "cell_type": "code",
   "execution_count": 11,
   "id": "2cb89e9b",
   "metadata": {},
   "outputs": [
    {
     "name": "stdout",
     "output_type": "stream",
     "text": [
      "u\n"
     ]
    }
   ],
   "source": [
    "# indexing str (starts from 0)\n",
    "\n",
    "name = 'upasana'\n",
    "print(name[0])\n",
    "\n"
   ]
  },
  {
   "cell_type": "code",
   "execution_count": 14,
   "id": "c235cf76",
   "metadata": {},
   "outputs": [
    {
     "name": "stdout",
     "output_type": "stream",
     "text": [
      "n\n"
     ]
    }
   ],
   "source": [
    "# positive index = positive numbers 0- ....\n",
    "\n",
    "# remember = to add +1 \n",
    "\n",
    "name = 'upasana'\n",
    "\n",
    "print(name[5])"
   ]
  },
  {
   "cell_type": "code",
   "execution_count": 16,
   "id": "1cdc81b1",
   "metadata": {},
   "outputs": [
    {
     "name": "stdout",
     "output_type": "stream",
     "text": [
      "a\n"
     ]
    }
   ],
   "source": [
    "# negative index = negative numbers, starts from end -1 ()\n",
    "\n",
    "print(name[-1])"
   ]
  },
  {
   "cell_type": "code",
   "execution_count": 20,
   "id": "bd036eb6",
   "metadata": {},
   "outputs": [
    {
     "name": "stdout",
     "output_type": "stream",
     "text": [
      "my nam\n"
     ]
    }
   ],
   "source": [
    "name= 'my name is upasana'\n",
    "\n",
    "print (name[0:6])\n",
    "\n",
    "# counted - my nam (space as well)"
   ]
  },
  {
   "cell_type": "code",
   "execution_count": 27,
   "id": "f0578543",
   "metadata": {},
   "outputs": [
    {
     "name": "stdout",
     "output_type": "stream",
     "text": [
      "hard\n",
      "sad\n",
      "ad\n",
      "ludrahs\n"
     ]
    }
   ],
   "source": [
    "name = 'shardul'\n",
    "print (name[1:5])\n",
    "\n",
    "print(name[0:5:2])   # starts from 0 till 5, with altering 2 aplhabet\n",
    "\n",
    "print(name[-5:-1:2])\n",
    "\n",
    "print(name[::-1])  # famous - reverse str\n",
    "\n"
   ]
  },
  {
   "cell_type": "code",
   "execution_count": 28,
   "id": "f33eb732",
   "metadata": {},
   "outputs": [
    {
     "name": "stdout",
     "output_type": "stream",
     "text": [
      "sshush\n"
     ]
    }
   ],
   "source": [
    "###### edit str = STR CANNOT BE EDITED= STR ARE IMMUATBLE   ####\n",
    "\n",
    "a = \"sshush shardul upa\"\n",
    "print (a)"
   ]
  },
  {
   "cell_type": "code",
   "execution_count": 29,
   "id": "b0da970b",
   "metadata": {},
   "outputs": [
    {
     "name": "stdout",
     "output_type": "stream",
     "text": [
      "sshush\n"
     ]
    }
   ],
   "source": [
    "# str can be reassigned\n",
    "\n",
    "a= \"sshush\"\n",
    "print (a)"
   ]
  },
  {
   "cell_type": "code",
   "execution_count": 32,
   "id": "7e16b6e5",
   "metadata": {},
   "outputs": [
    {
     "ename": "NameError",
     "evalue": "name 'a' is not defined",
     "output_type": "error",
     "traceback": [
      "\u001b[1;31m---------------------------------------------------------------------------\u001b[0m",
      "\u001b[1;31mNameError\u001b[0m                                 Traceback (most recent call last)",
      "Cell \u001b[1;32mIn[32], line 5\u001b[0m\n\u001b[0;32m      1\u001b[0m \u001b[38;5;66;03m# deletion str\u001b[39;00m\n\u001b[0;32m      2\u001b[0m \n\u001b[0;32m      3\u001b[0m \u001b[38;5;66;03m#entire str can be deleted \u001b[39;00m\n\u001b[1;32m----> 5\u001b[0m \u001b[38;5;28;01mdel\u001b[39;00m a\n\u001b[0;32m      7\u001b[0m \u001b[38;5;28mprint\u001b[39m  (a)\n",
      "\u001b[1;31mNameError\u001b[0m: name 'a' is not defined"
     ]
    }
   ],
   "source": [
    "# deletion str\n",
    "\n",
    "###   entire str can be deleted, not a single character, and sr cannot be deleted partially\n",
    "\n",
    "del a\n",
    "\n",
    "print  (a)"
   ]
  },
  {
   "cell_type": "code",
   "execution_count": null,
   "id": "5cdc3b5a",
   "metadata": {},
   "outputs": [],
   "source": []
  }
 ],
 "metadata": {
  "kernelspec": {
   "display_name": "Python 3 (ipykernel)",
   "language": "python",
   "name": "python3"
  },
  "language_info": {
   "codemirror_mode": {
    "name": "ipython",
    "version": 3
   },
   "file_extension": ".py",
   "mimetype": "text/x-python",
   "name": "python",
   "nbconvert_exporter": "python",
   "pygments_lexer": "ipython3",
   "version": "3.11.5"
  }
 },
 "nbformat": 4,
 "nbformat_minor": 5
}
